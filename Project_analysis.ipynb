{
 "cells": [
  {
   "cell_type": "markdown",
   "id": "73bc9548",
   "metadata": {},
   "source": [
    "# Analysis of IMDB Data"
   ]
  },
  {
   "cell_type": "markdown",
   "id": "7679c0c0",
   "metadata": {},
   "source": [
    "We will analyze a subset of IMDB's actors, genres, movie actors, and movie ratings data. This dataset comes to us from Kaggle (https://www.kaggle.com/datasets/ashirwadsangwan/imdb-dataset) although we have taken steps to pull this data into a publis s3 bucket: \n",
    "\n",
    "* s3://cis9760-lecture9-movieanalysis/name.basics.tsv ---> Name Basics\n",
    "* s3://cis9760-lecture9-movieanalysis/title.basics.tsv ---> Title Basics\n",
    "* s3://cis9760-lecture9-movieanalysis/title.principals.tsv ---> Title Principles\n",
    "* s3://cis9760-lecture9-movieanalysis/title.ratings.tsv ---> Title Ratings"
   ]
  },
  {
   "cell_type": "markdown",
   "id": "c1dde3fb",
   "metadata": {},
   "source": [
    "# Content\n",
    "\n",
    "**<br />name.basics.tsv.gz – Contains the following information for names:**\n",
    "<br />nconst (string) - alphanumeric unique identifier of the name/person.\n",
    "<br />primaryName (string)– name by which the person is most often credited.\n",
    "<br />birthYear – in YYYY format.\n",
    "<br />deathYear – in YYYY format if applicable, else .\n",
    "<br />primaryProfession (array of strings)– the top-3 professions of the person.\n",
    "<br />knownForTitles (array of tconsts) – titles the person is known for.\n",
    "<br/><br/>\n",
    "**<br />title.basics.tsv.gz - Contains the following information for titles:**\n",
    "<br />tconst (string) - alphanumeric unique identifier of the title.\n",
    "<br />titleType (string) – the type/format of the title (e.g. movie, short, tvseries, tvepisode, video, etc).\n",
    "<br />primaryTitle (string) – the more popular title / the title used by the filmmakers on promotional materials at the point of release.\n",
    "<br />originalTitle (string) - original title, in the original language.\n",
    "<br />isAdult (boolean) - 0: non-adult title; 1: adult title.\n",
    "<br />startYear (YYYY) – represents the release year of a title. In the case of TV Series, it is the series start year.\n",
    "<br />endYear (YYYY) – TV Series end year. for all other title types.\n",
    "<br />runtimeMinutes – primary runtime of the title, in minutes.\n",
    "<br />genres (string array) – includes up to three genres associated with the title.\n",
    "<br/><br/>\n",
    "**<br />title.principals.tsv – Contains the principal cast/crew for titles:**\n",
    "<br />tconst (string) - alphanumeric unique identifier of the title.\n",
    "<br />ordering (integer) – a number to uniquely identify rows for a given titleId.\n",
    "<br />nconst (string) - alphanumeric unique identifier of the name/person.\n",
    "<br />category (string) - the category of job that person was in.\n",
    "<br />job (string) - the specific job title if applicable, else.\n",
    "<br />characters (string) - the name of the character played if applicable, else.\n",
    "<br/><br/>\n",
    "**<br />title.ratings.tsv.gz – Contains the IMDb rating and votes information for titles:**\n",
    "<br />tconst (string) - alphanumeric unique identifier of the title.\n",
    "<br />averageRating – weighted average of all the individual user ratings.\n",
    "<br />numVotes - number of votes the title has received."
   ]
  },
  {
   "cell_type": "markdown",
   "id": "08416e6e",
   "metadata": {},
   "source": [
    "# PART 1 - Installation and Initial Setup"
   ]
  },
  {
   "cell_type": "markdown",
   "id": "04b07b9f",
   "metadata": {},
   "source": [
    "Begin by installing the necessary libraries that you may need to conduct your analysis. At the very least, you must install pandas and matplotlib"
   ]
  },
  {
   "cell_type": "code",
   "execution_count": 1,
   "id": "0c8b0667",
   "metadata": {
    "execution": {
     "iopub.execute_input": "2023-12-10T22:02:11.286570Z",
     "iopub.status.busy": "2023-12-10T22:02:11.286264Z",
     "iopub.status.idle": "2023-12-10T22:02:11.861837Z",
     "shell.execute_reply": "2023-12-10T22:02:11.861054Z",
     "shell.execute_reply.started": "2023-12-10T22:02:11.286540Z"
    },
    "tags": []
   },
   "outputs": [
    {
     "data": {
      "text/html": [
       "Current session configs: <tt>{'proxyUser': 'user_EMR-User-Lecture8', 'conf': {'spark.pyspark.python': 'python3', 'spark.pyspark.virtualenv.enabled': 'true', 'spark.pyspark.virtualenv.type': 'native', 'spark.pyspark.virtualenv.bin.path': '/usr/bin/virtualenv'}, 'kind': 'pyspark'}</tt><br>"
      ],
      "text/plain": [
       "<IPython.core.display.HTML object>"
      ]
     },
     "metadata": {},
     "output_type": "display_data"
    },
    {
     "data": {
      "text/html": [
       "No active sessions."
      ],
      "text/plain": [
       "<IPython.core.display.HTML object>"
      ]
     },
     "metadata": {},
     "output_type": "display_data"
    }
   ],
   "source": [
    "%%info"
   ]
  },
  {
   "cell_type": "markdown",
   "id": "1fc39c6b",
   "metadata": {},
   "source": [
    "Let's install the necessary packages here"
   ]
  },
  {
   "cell_type": "code",
   "execution_count": 2,
   "id": "e0a576cf",
   "metadata": {
    "execution": {
     "iopub.execute_input": "2023-12-10T22:02:17.357665Z",
     "iopub.status.busy": "2023-12-10T22:02:17.357433Z",
     "iopub.status.idle": "2023-12-10T22:03:42.515187Z",
     "shell.execute_reply": "2023-12-10T22:03:42.514555Z",
     "shell.execute_reply.started": "2023-12-10T22:02:17.357644Z"
    },
    "tags": []
   },
   "outputs": [
    {
     "data": {
      "application/vnd.jupyter.widget-view+json": {
       "model_id": "df351b2a06534e91afa8e3b4851e5f64",
       "version_major": 2,
       "version_minor": 0
      },
      "text/plain": [
       "VBox()"
      ]
     },
     "metadata": {},
     "output_type": "display_data"
    },
    {
     "name": "stdout",
     "output_type": "stream",
     "text": [
      "Starting Spark application\n"
     ]
    },
    {
     "data": {
      "text/html": [
       "<table>\n<tbody><tr><th>ID</th><th>YARN Application ID</th><th>Kind</th><th>State</th><th>Spark UI</th><th>Driver log</th><th>User</th><th>Current session?</th></tr><tr><td>0</td><td>application_1702245498903_0001</td><td>pyspark</td><td>idle</td><td><a target=\"_blank\" href=\"http://ip-172-31-0-182.us-east-2.compute.internal:20888/proxy/application_1702245498903_0001/\" class=\"emr-proxy-link j-1T6FTM6IRQXRC application_1702245498903_0001\" emr-resource=\"j-1T6FTM6IRQXRC\n\" application-id=\"application_1702245498903_0001\">Link</a></td><td><a target=\"_blank\" href=\"http://ip-172-31-14-61.us-east-2.compute.internal:8042/node/containerlogs/container_1702245498903_0001_01_000001/livy\">Link</a></td><td>None</td><td>✔</td></tr></tbody></table>"
      ],
      "text/plain": [
       "<IPython.core.display.HTML object>"
      ]
     },
     "metadata": {},
     "output_type": "display_data"
    },
    {
     "data": {
      "application/vnd.jupyter.widget-view+json": {
       "model_id": "",
       "version_major": 2,
       "version_minor": 0
      },
      "text/plain": [
       "FloatProgress(value=0.0, bar_style='info', description='Progress:', layout=Layout(height='25px', width='50%'),…"
      ]
     },
     "metadata": {},
     "output_type": "display_data"
    },
    {
     "name": "stdout",
     "output_type": "stream",
     "text": [
      "SparkSession available as 'spark'.\n"
     ]
    },
    {
     "data": {
      "application/vnd.jupyter.widget-view+json": {
       "model_id": "",
       "version_major": 2,
       "version_minor": 0
      },
      "text/plain": [
       "FloatProgress(value=0.0, bar_style='info', description='Progress:', layout=Layout(height='25px', width='50%'),…"
      ]
     },
     "metadata": {},
     "output_type": "display_data"
    },
    {
     "name": "stdout",
     "output_type": "stream",
     "text": [
      "Collecting pandas==1.0.5\n",
      "  Downloading pandas-1.0.5-cp37-cp37m-manylinux1_x86_64.whl (10.1 MB)\n",
      "Collecting python-dateutil>=2.6.1\n",
      "  Downloading python_dateutil-2.8.2-py2.py3-none-any.whl (247 kB)\n",
      "Requirement already satisfied: pytz>=2017.2 in /usr/local/lib/python3.7/site-packages (from pandas==1.0.5) (2023.3.post1)\n",
      "Requirement already satisfied: numpy>=1.13.3 in /usr/local/lib64/python3.7/site-packages (from pandas==1.0.5) (1.20.0)\n",
      "Requirement already satisfied: six>=1.5 in /usr/local/lib/python3.7/site-packages (from python-dateutil>=2.6.1->pandas==1.0.5) (1.13.0)\n",
      "Installing collected packages: python-dateutil, pandas\n",
      "Successfully installed pandas-1.0.5 python-dateutil-2.8.2\n",
      "\n",
      "Collecting matplotlib==3.2.1\n",
      "  Downloading matplotlib-3.2.1-cp37-cp37m-manylinux1_x86_64.whl (12.4 MB)\n",
      "Collecting cycler>=0.10\n",
      "  Downloading cycler-0.11.0-py3-none-any.whl (6.4 kB)\n",
      "Collecting pyparsing!=2.0.4,!=2.1.2,!=2.1.6,>=2.0.1\n",
      "  Downloading pyparsing-3.1.1-py3-none-any.whl (103 kB)\n",
      "Requirement already satisfied: numpy>=1.11 in /usr/local/lib64/python3.7/site-packages (from matplotlib==3.2.1) (1.20.0)\n",
      "Requirement already satisfied: python-dateutil>=2.1 in ./tmp/spark-ed05f3d1-3083-4a61-a039-056c39a698d4/lib/python3.7/site-packages (from matplotlib==3.2.1) (2.8.2)\n",
      "Collecting kiwisolver>=1.0.1\n",
      "  Downloading kiwisolver-1.4.5-cp37-cp37m-manylinux_2_5_x86_64.manylinux1_x86_64.whl (1.1 MB)\n",
      "Requirement already satisfied: six>=1.5 in /usr/local/lib/python3.7/site-packages (from python-dateutil>=2.1->matplotlib==3.2.1) (1.13.0)\n",
      "Collecting typing-extensions; python_version < \"3.8\"\n",
      "  Downloading typing_extensions-4.7.1-py3-none-any.whl (33 kB)\n",
      "Installing collected packages: cycler, pyparsing, typing-extensions, kiwisolver, matplotlib\n",
      "Successfully installed cycler-0.11.0 kiwisolver-1.4.5 matplotlib-3.2.1 pyparsing-3.1.1 typing-extensions-4.7.1\n",
      "\n",
      "WARNING: The directory '/home/.cache/pip' or its parent directory is not owned or is not writable by the current user. The cache has been disabled. Check the permissions and owner of that directory. If executing pip with sudo, you may want sudo's -H flag.\n",
      "\n",
      "WARNING: The directory '/home/.cache/pip' or its parent directory is not owned or is not writable by the current user. The cache has been disabled. Check the permissions and owner of that directory. If executing pip with sudo, you may want sudo's -H flag."
     ]
    }
   ],
   "source": [
    "sc.install_pypi_package(\"pandas==1.0.5\")\n",
    "sc.install_pypi_package(\"matplotlib==3.2.1\")"
   ]
  },
  {
   "cell_type": "markdown",
   "id": "5ab05754",
   "metadata": {},
   "source": [
    "Now, import the installed packages from the previous block below."
   ]
  },
  {
   "cell_type": "code",
   "execution_count": 3,
   "id": "6d0a7012",
   "metadata": {
    "execution": {
     "iopub.execute_input": "2023-12-10T22:03:59.723963Z",
     "iopub.status.busy": "2023-12-10T22:03:59.723733Z",
     "iopub.status.idle": "2023-12-10T22:04:05.049038Z",
     "shell.execute_reply": "2023-12-10T22:04:05.048153Z",
     "shell.execute_reply.started": "2023-12-10T22:03:59.723938Z"
    },
    "tags": []
   },
   "outputs": [
    {
     "data": {
      "application/vnd.jupyter.widget-view+json": {
       "model_id": "45e6947fbeda44bfa8a73bb3c3e53182",
       "version_major": 2,
       "version_minor": 0
      },
      "text/plain": [
       "VBox()"
      ]
     },
     "metadata": {},
     "output_type": "display_data"
    },
    {
     "data": {
      "application/vnd.jupyter.widget-view+json": {
       "model_id": "",
       "version_major": 2,
       "version_minor": 0
      },
      "text/plain": [
       "FloatProgress(value=0.0, bar_style='info', description='Progress:', layout=Layout(height='25px', width='50%'),…"
      ]
     },
     "metadata": {},
     "output_type": "display_data"
    }
   ],
   "source": [
    "import pandas as pd\n",
    "import numpy as np\n",
    "import matplotlib.pyplot as plt"
   ]
  },
  {
   "cell_type": "markdown",
   "id": "e963f4ba",
   "metadata": {},
   "source": [
    "# Loading Data"
   ]
  },
  {
   "cell_type": "markdown",
   "id": "b4356189",
   "metadata": {},
   "source": [
    "Load all data from S3 into a Spark dataframe object "
   ]
  },
  {
   "cell_type": "code",
   "execution_count": 4,
   "id": "24beddd1",
   "metadata": {
    "execution": {
     "iopub.execute_input": "2023-12-10T22:04:05.050804Z",
     "iopub.status.busy": "2023-12-10T22:04:05.050552Z",
     "iopub.status.idle": "2023-12-10T22:04:14.443927Z",
     "shell.execute_reply": "2023-12-10T22:04:14.443133Z",
     "shell.execute_reply.started": "2023-12-10T22:04:05.050771Z"
    },
    "tags": []
   },
   "outputs": [
    {
     "data": {
      "application/vnd.jupyter.widget-view+json": {
       "model_id": "c5ec68e39bc14fbb956f850bf316f3e9",
       "version_major": 2,
       "version_minor": 0
      },
      "text/plain": [
       "VBox()"
      ]
     },
     "metadata": {},
     "output_type": "display_data"
    },
    {
     "data": {
      "application/vnd.jupyter.widget-view+json": {
       "model_id": "",
       "version_major": 2,
       "version_minor": 0
      },
      "text/plain": [
       "FloatProgress(value=0.0, bar_style='info', description='Progress:', layout=Layout(height='25px', width='50%'),…"
      ]
     },
     "metadata": {},
     "output_type": "display_data"
    }
   ],
   "source": [
    "actors = spark.read.csv('s3://cis9760-lecture9-movieanalysis/name.basics.tsv', sep=r'\\t', header=True)\n",
    "genres = spark.read.csv('s3://cis9760-lecture9-movieanalysis/title.basics.tsv', sep=r'\\t', header=True)\n",
    "movie_actors = spark.read.csv('s3://cis9760-lecture9-movieanalysis/title.principals.tsv', sep=r'\\t', header=True)\n",
    "movie_ratings = spark.read.csv('s3://cis9760-lecture9-movieanalysis/title.ratings.tsv', sep=r'\\t', header=True)"
   ]
  },
  {
   "cell_type": "markdown",
   "id": "c65401c7",
   "metadata": {},
   "source": [
    "## Name Basics"
   ]
  },
  {
   "cell_type": "markdown",
   "id": "03981851",
   "metadata": {},
   "source": [
    "Display the schema below:"
   ]
  },
  {
   "cell_type": "code",
   "execution_count": 5,
   "id": "98b95e51",
   "metadata": {
    "execution": {
     "iopub.execute_input": "2023-12-10T22:04:14.445454Z",
     "iopub.status.busy": "2023-12-10T22:04:14.445280Z",
     "iopub.status.idle": "2023-12-10T22:04:19.767740Z",
     "shell.execute_reply": "2023-12-10T22:04:19.767013Z",
     "shell.execute_reply.started": "2023-12-10T22:04:14.445433Z"
    },
    "tags": []
   },
   "outputs": [
    {
     "data": {
      "application/vnd.jupyter.widget-view+json": {
       "model_id": "4e766724b7ea472391564d8c9f8c4f74",
       "version_major": 2,
       "version_minor": 0
      },
      "text/plain": [
       "VBox()"
      ]
     },
     "metadata": {},
     "output_type": "display_data"
    },
    {
     "data": {
      "application/vnd.jupyter.widget-view+json": {
       "model_id": "",
       "version_major": 2,
       "version_minor": 0
      },
      "text/plain": [
       "FloatProgress(value=0.0, bar_style='info', description='Progress:', layout=Layout(height='25px', width='50%'),…"
      ]
     },
     "metadata": {},
     "output_type": "display_data"
    },
    {
     "name": "stdout",
     "output_type": "stream",
     "text": [
      "root\n",
      " |-- nconst: string (nullable = true)\n",
      " |-- primaryName: string (nullable = true)\n",
      " |-- birthYear: string (nullable = true)\n",
      " |-- deathYear: string (nullable = true)\n",
      " |-- primaryProfession: string (nullable = true)\n",
      " |-- knownForTitles: string (nullable = true)\n",
      "\n",
      "9706922"
     ]
    }
   ],
   "source": [
    "actors.printSchema()\n",
    "actors.count()"
   ]
  },
  {
   "cell_type": "markdown",
   "id": "dfd8a219",
   "metadata": {},
   "source": [
    "Display the first 5 rows with the following columns:\n",
    "\n",
    "* `primaryName`\n",
    "* `birthYear`\n",
    "* `deathYear`\n",
    "* `knownForTitles`"
   ]
  },
  {
   "cell_type": "code",
   "execution_count": 6,
   "id": "29db2340",
   "metadata": {
    "execution": {
     "iopub.execute_input": "2023-12-10T22:04:19.769654Z",
     "iopub.status.busy": "2023-12-10T22:04:19.769416Z",
     "iopub.status.idle": "2023-12-10T22:04:20.547081Z",
     "shell.execute_reply": "2023-12-10T22:04:20.546379Z",
     "shell.execute_reply.started": "2023-12-10T22:04:19.769621Z"
    },
    "tags": []
   },
   "outputs": [
    {
     "data": {
      "application/vnd.jupyter.widget-view+json": {
       "model_id": "823c4de7a54f439bb039912d2b7c7391",
       "version_major": 2,
       "version_minor": 0
      },
      "text/plain": [
       "VBox()"
      ]
     },
     "metadata": {},
     "output_type": "display_data"
    },
    {
     "data": {
      "application/vnd.jupyter.widget-view+json": {
       "model_id": "",
       "version_major": 2,
       "version_minor": 0
      },
      "text/plain": [
       "FloatProgress(value=0.0, bar_style='info', description='Progress:', layout=Layout(height='25px', width='50%'),…"
      ]
     },
     "metadata": {},
     "output_type": "display_data"
    },
    {
     "name": "stdout",
     "output_type": "stream",
     "text": [
      "+---------------+---------+---------+--------------------+\n",
      "|    primaryName|birthYear|deathYear|      knownForTitles|\n",
      "+---------------+---------+---------+--------------------+\n",
      "|   Fred Astaire|     1899|     1987|tt0050419,tt00531...|\n",
      "|  Lauren Bacall|     1924|     2014|tt0071877,tt01170...|\n",
      "|Brigitte Bardot|     1934|       \\N|tt0054452,tt00491...|\n",
      "|   John Belushi|     1949|     1982|tt0077975,tt00725...|\n",
      "| Ingmar Bergman|     1918|     2007|tt0069467,tt00509...|\n",
      "+---------------+---------+---------+--------------------+\n",
      "only showing top 5 rows"
     ]
    }
   ],
   "source": [
    "actors.select(\"primaryName\", \"birthYear\", \"deathYear\", \"knownForTitles\").show(5)"
   ]
  },
  {
   "cell_type": "markdown",
   "id": "65371453",
   "metadata": {},
   "source": [
    "## Title Basics"
   ]
  },
  {
   "cell_type": "markdown",
   "id": "b95d8c5a",
   "metadata": {},
   "source": [
    "Display the first 15 rows with the following columns:\n",
    "    \n",
    "* `titleType`\n",
    "* `primaryTitle`\n",
    "* `genres`"
   ]
  },
  {
   "cell_type": "code",
   "execution_count": 7,
   "id": "74c95177",
   "metadata": {
    "execution": {
     "iopub.execute_input": "2023-12-10T22:04:20.548261Z",
     "iopub.status.busy": "2023-12-10T22:04:20.548051Z",
     "iopub.status.idle": "2023-12-10T22:04:20.821539Z",
     "shell.execute_reply": "2023-12-10T22:04:20.820910Z",
     "shell.execute_reply.started": "2023-12-10T22:04:20.548224Z"
    },
    "tags": []
   },
   "outputs": [
    {
     "data": {
      "application/vnd.jupyter.widget-view+json": {
       "model_id": "e2f0636fe81e4762be408d4207c14b1c",
       "version_major": 2,
       "version_minor": 0
      },
      "text/plain": [
       "VBox()"
      ]
     },
     "metadata": {},
     "output_type": "display_data"
    },
    {
     "data": {
      "application/vnd.jupyter.widget-view+json": {
       "model_id": "",
       "version_major": 2,
       "version_minor": 0
      },
      "text/plain": [
       "FloatProgress(value=0.0, bar_style='info', description='Progress:', layout=Layout(height='25px', width='50%'),…"
      ]
     },
     "metadata": {},
     "output_type": "display_data"
    },
    {
     "name": "stdout",
     "output_type": "stream",
     "text": [
      "+---------+--------------------+--------------------+\n",
      "|titleType|        primaryTitle|              genres|\n",
      "+---------+--------------------+--------------------+\n",
      "|    short|          Carmencita|   Documentary,Short|\n",
      "|    short|Le clown et ses c...|     Animation,Short|\n",
      "|    short|      Pauvre Pierrot|Animation,Comedy,...|\n",
      "|    short|         Un bon bock|     Animation,Short|\n",
      "|    short|    Blacksmith Scene|        Comedy,Short|\n",
      "|    short|   Chinese Opium Den|               Short|\n",
      "|    short|Corbett and Court...|         Short,Sport|\n",
      "|    short|Edison Kinetoscop...|   Documentary,Short|\n",
      "|    movie|          Miss Jerry|             Romance|\n",
      "|    short| Exiting the Factory|   Documentary,Short|\n",
      "|    short|Akrobatisches Pot...|   Documentary,Short|\n",
      "|    short|The Arrival of a ...|Action,Documentar...|\n",
      "|    short|The Photographica...|   Documentary,Short|\n",
      "|    short|The Sprinkler Spr...|        Comedy,Short|\n",
      "|    short| Autour d'une cabine|     Animation,Short|\n",
      "+---------+--------------------+--------------------+\n",
      "only showing top 15 rows"
     ]
    }
   ],
   "source": [
    "genres.select(\"titleType\", \"primaryTitle\", \"genres\").show(15)"
   ]
  },
  {
   "cell_type": "markdown",
   "id": "f3852bb4",
   "metadata": {},
   "source": [
    "Display the unique titles below:"
   ]
  },
  {
   "cell_type": "code",
   "execution_count": 8,
   "id": "d533edd4-1e8e-4f88-8c9c-9df989e5bbf5",
   "metadata": {
    "execution": {
     "iopub.execute_input": "2023-12-10T22:04:20.822807Z",
     "iopub.status.busy": "2023-12-10T22:04:20.822601Z",
     "iopub.status.idle": "2023-12-10T22:04:30.156403Z",
     "shell.execute_reply": "2023-12-10T22:04:30.155722Z",
     "shell.execute_reply.started": "2023-12-10T22:04:20.822784Z"
    },
    "tags": []
   },
   "outputs": [
    {
     "data": {
      "application/vnd.jupyter.widget-view+json": {
       "model_id": "69b007d253bd4a6c8067b6fb147fab90",
       "version_major": 2,
       "version_minor": 0
      },
      "text/plain": [
       "VBox()"
      ]
     },
     "metadata": {},
     "output_type": "display_data"
    },
    {
     "data": {
      "application/vnd.jupyter.widget-view+json": {
       "model_id": "",
       "version_major": 2,
       "version_minor": 0
      },
      "text/plain": [
       "FloatProgress(value=0.0, bar_style='info', description='Progress:', layout=Layout(height='25px', width='50%'),…"
      ]
     },
     "metadata": {},
     "output_type": "display_data"
    },
    {
     "name": "stdout",
     "output_type": "stream",
     "text": [
      "+------------+\n",
      "|   titleType|\n",
      "+------------+\n",
      "|    tvSeries|\n",
      "|tvMiniSeries|\n",
      "|       movie|\n",
      "|   videoGame|\n",
      "|   tvSpecial|\n",
      "|       video|\n",
      "|     tvMovie|\n",
      "|   tvEpisode|\n",
      "|     tvShort|\n",
      "|       short|\n",
      "+------------+"
     ]
    }
   ],
   "source": [
    "genres.select(\"titleType\").distinct().show()"
   ]
  },
  {
   "cell_type": "markdown",
   "id": "d8f3c92f",
   "metadata": {},
   "source": [
    "Display the schema below:"
   ]
  },
  {
   "cell_type": "code",
   "execution_count": 9,
   "id": "8334d2fe",
   "metadata": {
    "execution": {
     "iopub.execute_input": "2023-12-10T22:04:30.157536Z",
     "iopub.status.busy": "2023-12-10T22:04:30.157362Z",
     "iopub.status.idle": "2023-12-10T22:04:30.213793Z",
     "shell.execute_reply": "2023-12-10T22:04:30.213184Z",
     "shell.execute_reply.started": "2023-12-10T22:04:30.157514Z"
    },
    "tags": []
   },
   "outputs": [
    {
     "data": {
      "application/vnd.jupyter.widget-view+json": {
       "model_id": "3c6fe0f096cc4907a4b4aaced39be610",
       "version_major": 2,
       "version_minor": 0
      },
      "text/plain": [
       "VBox()"
      ]
     },
     "metadata": {},
     "output_type": "display_data"
    },
    {
     "data": {
      "application/vnd.jupyter.widget-view+json": {
       "model_id": "",
       "version_major": 2,
       "version_minor": 0
      },
      "text/plain": [
       "FloatProgress(value=0.0, bar_style='info', description='Progress:', layout=Layout(height='25px', width='50%'),…"
      ]
     },
     "metadata": {},
     "output_type": "display_data"
    },
    {
     "name": "stdout",
     "output_type": "stream",
     "text": [
      "root\n",
      " |-- tconst: string (nullable = true)\n",
      " |-- titleType: string (nullable = true)\n",
      " |-- primaryTitle: string (nullable = true)\n",
      " |-- originalTitle: string (nullable = true)\n",
      " |-- isAdult: string (nullable = true)\n",
      " |-- startYear: string (nullable = true)\n",
      " |-- endYear: string (nullable = true)\n",
      " |-- runtimeMinutes: string (nullable = true)\n",
      " |-- genres: string (nullable = true)"
     ]
    }
   ],
   "source": [
    "genres.printSchema()"
   ]
  },
  {
   "cell_type": "markdown",
   "id": "bf21e1b7",
   "metadata": {},
   "source": [
    "## Title Principles"
   ]
  },
  {
   "cell_type": "markdown",
   "id": "442830b8",
   "metadata": {},
   "source": [
    "Display the schema below:"
   ]
  },
  {
   "cell_type": "code",
   "execution_count": 10,
   "id": "b7241872",
   "metadata": {
    "execution": {
     "iopub.execute_input": "2023-12-10T22:04:30.216049Z",
     "iopub.status.busy": "2023-12-10T22:04:30.215860Z",
     "iopub.status.idle": "2023-12-10T22:04:30.269494Z",
     "shell.execute_reply": "2023-12-10T22:04:30.268805Z",
     "shell.execute_reply.started": "2023-12-10T22:04:30.216027Z"
    },
    "tags": []
   },
   "outputs": [
    {
     "data": {
      "application/vnd.jupyter.widget-view+json": {
       "model_id": "cabc702d793446989043e7ed07b894bb",
       "version_major": 2,
       "version_minor": 0
      },
      "text/plain": [
       "VBox()"
      ]
     },
     "metadata": {},
     "output_type": "display_data"
    },
    {
     "data": {
      "application/vnd.jupyter.widget-view+json": {
       "model_id": "",
       "version_major": 2,
       "version_minor": 0
      },
      "text/plain": [
       "FloatProgress(value=0.0, bar_style='info', description='Progress:', layout=Layout(height='25px', width='50%'),…"
      ]
     },
     "metadata": {},
     "output_type": "display_data"
    },
    {
     "name": "stdout",
     "output_type": "stream",
     "text": [
      "root\n",
      " |-- tconst: string (nullable = true)\n",
      " |-- ordering: string (nullable = true)\n",
      " |-- nconst: string (nullable = true)\n",
      " |-- category: string (nullable = true)\n",
      " |-- job: string (nullable = true)\n",
      " |-- characters: string (nullable = true)"
     ]
    }
   ],
   "source": [
    "movie_actors.printSchema()"
   ]
  },
  {
   "cell_type": "markdown",
   "id": "e24870d3",
   "metadata": {},
   "source": [
    "Display the first 15 rows where the \"category\" column is \"self\""
   ]
  },
  {
   "cell_type": "code",
   "execution_count": 11,
   "id": "3f6dbef1",
   "metadata": {
    "execution": {
     "iopub.execute_input": "2023-12-10T22:04:30.271824Z",
     "iopub.status.busy": "2023-12-10T22:04:30.271570Z",
     "iopub.status.idle": "2023-12-10T22:04:31.057451Z",
     "shell.execute_reply": "2023-12-10T22:04:31.056752Z",
     "shell.execute_reply.started": "2023-12-10T22:04:30.271792Z"
    },
    "tags": []
   },
   "outputs": [
    {
     "data": {
      "application/vnd.jupyter.widget-view+json": {
       "model_id": "70b44431ce434706aa8394bae9d35fa2",
       "version_major": 2,
       "version_minor": 0
      },
      "text/plain": [
       "VBox()"
      ]
     },
     "metadata": {},
     "output_type": "display_data"
    },
    {
     "data": {
      "application/vnd.jupyter.widget-view+json": {
       "model_id": "",
       "version_major": 2,
       "version_minor": 0
      },
      "text/plain": [
       "FloatProgress(value=0.0, bar_style='info', description='Progress:', layout=Layout(height='25px', width='50%'),…"
      ]
     },
     "metadata": {},
     "output_type": "display_data"
    },
    {
     "name": "stdout",
     "output_type": "stream",
     "text": [
      "+---------+--------+---------+--------+---+--------------------+\n",
      "|   tconst|ordering|   nconst|category|job|          characters|\n",
      "+---------+--------+---------+--------+---+--------------------+\n",
      "|tt0000001|       1|nm1588970|    self| \\N|         [\"Herself\"]|\n",
      "|tt0000012|       1|nm2880396|    self| \\N|         [\"Herself\"]|\n",
      "|tt0000012|       2|nm9735580|    self| \\N|         [\"Himself\"]|\n",
      "|tt0000012|       3|nm0525900|    self| \\N|         [\"Herself\"]|\n",
      "|tt0000012|       4|nm9735581|    self| \\N|         [\"Herself\"]|\n",
      "|tt0000012|       7|nm9735579|    self| \\N|         [\"Herself\"]|\n",
      "|tt0000012|       8|nm9653419|    self| \\N|         [\"Herself\"]|\n",
      "|tt0000013|       1|nm0525908|    self| \\N|         [\"Himself\"]|\n",
      "|tt0000013|       2|nm1715062|    self| \\N|         [\"Himself\"]|\n",
      "|tt0000016|       1|nm0525900|    self| \\N|[\"Herself (on the...|\n",
      "|tt0000016|       2|nm9735581|    self| \\N|[\"Herself (on the...|\n",
      "|tt0000024|       1|nm0256651|    self| \\N|[\"Herself - Empre...|\n",
      "|tt0000024|       2|nm0435118|    self| \\N|[\"Himself - Emper...|\n",
      "|tt0000028|       1|nm2350838|    self| \\N|         [\"Himself\"]|\n",
      "|tt0000028|       2|nm0525908|    self| \\N|         [\"Himself\"]|\n",
      "+---------+--------+---------+--------+---+--------------------+\n",
      "only showing top 15 rows"
     ]
    }
   ],
   "source": [
    "filtered_data = movie_actors.filter(movie_actors['category'] == 'self').show(15)"
   ]
  },
  {
   "cell_type": "markdown",
   "id": "d8e128fc",
   "metadata": {},
   "source": [
    "## Title Ratings"
   ]
  },
  {
   "cell_type": "markdown",
   "id": "c40d60cd",
   "metadata": {},
   "source": [
    "Display the schema below:"
   ]
  },
  {
   "cell_type": "code",
   "execution_count": 12,
   "id": "1ed78395",
   "metadata": {
    "execution": {
     "iopub.execute_input": "2023-12-10T22:04:31.058920Z",
     "iopub.status.busy": "2023-12-10T22:04:31.058646Z",
     "iopub.status.idle": "2023-12-10T22:04:31.117136Z",
     "shell.execute_reply": "2023-12-10T22:04:31.116413Z",
     "shell.execute_reply.started": "2023-12-10T22:04:31.058888Z"
    },
    "tags": []
   },
   "outputs": [
    {
     "data": {
      "application/vnd.jupyter.widget-view+json": {
       "model_id": "ab997ca33c004cb9a3485b6600173218",
       "version_major": 2,
       "version_minor": 0
      },
      "text/plain": [
       "VBox()"
      ]
     },
     "metadata": {},
     "output_type": "display_data"
    },
    {
     "data": {
      "application/vnd.jupyter.widget-view+json": {
       "model_id": "",
       "version_major": 2,
       "version_minor": 0
      },
      "text/plain": [
       "FloatProgress(value=0.0, bar_style='info', description='Progress:', layout=Layout(height='25px', width='50%'),…"
      ]
     },
     "metadata": {},
     "output_type": "display_data"
    },
    {
     "name": "stdout",
     "output_type": "stream",
     "text": [
      "root\n",
      " |-- tconst: string (nullable = true)\n",
      " |-- averageRating: string (nullable = true)\n",
      " |-- numVotes: string (nullable = true)"
     ]
    }
   ],
   "source": [
    "movie_ratings.printSchema()"
   ]
  },
  {
   "cell_type": "markdown",
   "id": "76ac1ac7",
   "metadata": {},
   "source": [
    "Display the first 10 rows in a descending order by the number of votes"
   ]
  },
  {
   "cell_type": "code",
   "execution_count": 13,
   "id": "9f663e07",
   "metadata": {
    "execution": {
     "iopub.execute_input": "2023-12-10T22:04:31.118303Z",
     "iopub.status.busy": "2023-12-10T22:04:31.118145Z",
     "iopub.status.idle": "2023-12-10T22:04:33.399224Z",
     "shell.execute_reply": "2023-12-10T22:04:33.398603Z",
     "shell.execute_reply.started": "2023-12-10T22:04:31.118284Z"
    },
    "tags": []
   },
   "outputs": [
    {
     "data": {
      "application/vnd.jupyter.widget-view+json": {
       "model_id": "2e234164946548f0872c8e8e0151a52b",
       "version_major": 2,
       "version_minor": 0
      },
      "text/plain": [
       "VBox()"
      ]
     },
     "metadata": {},
     "output_type": "display_data"
    },
    {
     "data": {
      "application/vnd.jupyter.widget-view+json": {
       "model_id": "",
       "version_major": 2,
       "version_minor": 0
      },
      "text/plain": [
       "FloatProgress(value=0.0, bar_style='info', description='Progress:', layout=Layout(height='25px', width='50%'),…"
      ]
     },
     "metadata": {},
     "output_type": "display_data"
    },
    {
     "name": "stdout",
     "output_type": "stream",
     "text": [
      "+---------+-------------+--------+\n",
      "|   tconst|averageRating|numVotes|\n",
      "+---------+-------------+--------+\n",
      "|tt0111161|          9.3| 2159745|\n",
      "|tt0468569|          9.0| 2134602|\n",
      "|tt1375666|          8.8| 1892958|\n",
      "|tt0137523|          8.8| 1725444|\n",
      "|tt0110912|          8.9| 1695159|\n",
      "|tt0109830|          8.8| 1662609|\n",
      "|tt0944947|          9.4| 1606096|\n",
      "|tt0133093|          8.7| 1554345|\n",
      "|tt0120737|          8.8| 1548920|\n",
      "|tt0167260|          8.9| 1533632|\n",
      "+---------+-------------+--------+"
     ]
    }
   ],
   "source": [
    "from pyspark.sql.functions import col\n",
    "movie_ratings = movie_ratings.withColumn('numVotes', col('numVotes').cast('integer'))\n",
    "sorted_data = movie_ratings.orderBy('numVotes', ascending=False).limit(10)\n",
    "sorted_data.show()"
   ]
  },
  {
   "cell_type": "markdown",
   "id": "e77cf460",
   "metadata": {},
   "source": [
    "# Overview of Data"
   ]
  },
  {
   "cell_type": "markdown",
   "id": "2bc943bf",
   "metadata": {},
   "source": [
    "Display the number of rows and columns in each dataFrame object."
   ]
  },
  {
   "cell_type": "code",
   "execution_count": 14,
   "id": "15b35f7a",
   "metadata": {
    "execution": {
     "iopub.execute_input": "2023-12-10T22:04:33.400278Z",
     "iopub.status.busy": "2023-12-10T22:04:33.400105Z",
     "iopub.status.idle": "2023-12-10T22:04:50.806928Z",
     "shell.execute_reply": "2023-12-10T22:04:50.806184Z",
     "shell.execute_reply.started": "2023-12-10T22:04:33.400256Z"
    },
    "tags": []
   },
   "outputs": [
    {
     "data": {
      "application/vnd.jupyter.widget-view+json": {
       "model_id": "ecd1521ace8e41d2ada6d4522897090d",
       "version_major": 2,
       "version_minor": 0
      },
      "text/plain": [
       "VBox()"
      ]
     },
     "metadata": {},
     "output_type": "display_data"
    },
    {
     "data": {
      "application/vnd.jupyter.widget-view+json": {
       "model_id": "",
       "version_major": 2,
       "version_minor": 0
      },
      "text/plain": [
       "FloatProgress(value=0.0, bar_style='info', description='Progress:', layout=Layout(height='25px', width='50%'),…"
      ]
     },
     "metadata": {},
     "output_type": "display_data"
    },
    {
     "name": "stdout",
     "output_type": "stream",
     "text": [
      "Number of columns in Name Basics table: 6\n",
      "Number of rows in Name Basics table: 9706922\n",
      "\n",
      "Number of columns in Title Basics table: 9\n",
      "Number of rows in Title Basics table: 6321302\n",
      "\n",
      "Number of columns in Title Principles table: 6\n",
      "Number of rows in Title Principles table: 36468817\n",
      "\n",
      "Number of columns in Title Ratings table: 3\n",
      "Number of rows in Title Ratings table: 993153"
     ]
    }
   ],
   "source": [
    "print(f'Number of columns in Name Basics table: {len(actors.dtypes)}')\n",
    "print(f'Number of rows in Name Basics table: {actors.count()}')\n",
    "print()\n",
    "print(f'Number of columns in Title Basics table: {len(genres.dtypes)}')\n",
    "print(f'Number of rows in Title Basics table: {genres.count()}')\n",
    "print()\n",
    "print(f'Number of columns in Title Principles table: {len(movie_actors.dtypes)}')\n",
    "print(f'Number of rows in Title Principles table: {movie_actors.count()}')\n",
    "print()\n",
    "print(f'Number of columns in Title Ratings table: {len(movie_ratings.dtypes)}')\n",
    "print(f'Number of rows in Title Ratings table: {movie_ratings.count()}')"
   ]
  },
  {
   "cell_type": "markdown",
   "id": "b45c87a7",
   "metadata": {},
   "source": [
    "# PART 2 - Analyzing Genres"
   ]
  },
  {
   "cell_type": "markdown",
   "id": "37c839bd",
   "metadata": {},
   "source": [
    "Let's now answer this question: how many unique genres are represented in this dataset?\n",
    "\n",
    "Essentially, we have the genres per movie as a list - this is useful to quickly see what each movie might be represented as but it is difficult to easily answer questions such as:\n",
    "\n",
    "* How many movies are categorized as Comedy, for instance?\n",
    "* What are the top 20 most popular genres available?"
   ]
  },
  {
   "cell_type": "markdown",
   "id": "509eb185",
   "metadata": {},
   "source": [
    "## Association Table\n",
    "\n",
    "We need to \"break out\" these genres from the tconst? One common approach to take is to build an association table mapping a single tconst multiple times to each distinct genre.\n",
    "\n",
    "For instance, given the following:\n",
    "\n",
    "\n",
    "| tconst   | titleType  |genres |\n",
    "|----------|------------|-------|\n",
    "| abcd123  | XXX        |a,b,c  |\n",
    "\n",
    "We would like to derive something like:\n",
    "\n",
    "| tconst   |  titleType |genre |\n",
    "|----------|------------|------|\n",
    "| abcd123  | XXX        |a     |\n",
    "| abcd123  | XXX        |b     |\n",
    "| abcd123  | XXX        |c     |\n",
    "\n",
    "\n",
    "What this does is allow us to then perform a myriad of rollups and other analysis on this association table which can aid us in answering the questions asked above.\n",
    "\n",
    "Implement the code necessary to derive the table described from the data set"
   ]
  },
  {
   "cell_type": "code",
   "execution_count": 15,
   "id": "4490fde7-4ef9-460b-9a03-1db75a4c13e3",
   "metadata": {
    "execution": {
     "iopub.execute_input": "2023-12-10T22:04:50.808469Z",
     "iopub.status.busy": "2023-12-10T22:04:50.808210Z",
     "iopub.status.idle": "2023-12-10T22:04:51.075703Z",
     "shell.execute_reply": "2023-12-10T22:04:51.075080Z",
     "shell.execute_reply.started": "2023-12-10T22:04:50.808417Z"
    },
    "tags": []
   },
   "outputs": [
    {
     "data": {
      "application/vnd.jupyter.widget-view+json": {
       "model_id": "f8bbb157abdd4142974a2602586deec7",
       "version_major": 2,
       "version_minor": 0
      },
      "text/plain": [
       "VBox()"
      ]
     },
     "metadata": {},
     "output_type": "display_data"
    },
    {
     "data": {
      "application/vnd.jupyter.widget-view+json": {
       "model_id": "",
       "version_major": 2,
       "version_minor": 0
      },
      "text/plain": [
       "FloatProgress(value=0.0, bar_style='info', description='Progress:', layout=Layout(height='25px', width='50%'),…"
      ]
     },
     "metadata": {},
     "output_type": "display_data"
    },
    {
     "name": "stdout",
     "output_type": "stream",
     "text": [
      "+---------+---------+--------------------+\n",
      "|   tconst|titleType|              genres|\n",
      "+---------+---------+--------------------+\n",
      "|tt0000001|    short|   Documentary,Short|\n",
      "|tt0000002|    short|     Animation,Short|\n",
      "|tt0000003|    short|Animation,Comedy,...|\n",
      "|tt0000004|    short|     Animation,Short|\n",
      "|tt0000005|    short|        Comedy,Short|\n",
      "+---------+---------+--------------------+\n",
      "only showing top 5 rows"
     ]
    }
   ],
   "source": [
    "genres.select(\"tconst\", \"titleType\", \"genres\").show(5)"
   ]
  },
  {
   "cell_type": "markdown",
   "id": "7e215c7e",
   "metadata": {},
   "source": [
    "Display the first 10 rows of your association table below"
   ]
  },
  {
   "cell_type": "code",
   "execution_count": 16,
   "id": "eee1cc98",
   "metadata": {
    "execution": {
     "iopub.execute_input": "2023-12-10T22:04:51.076771Z",
     "iopub.status.busy": "2023-12-10T22:04:51.076580Z",
     "iopub.status.idle": "2023-12-10T22:04:51.842786Z",
     "shell.execute_reply": "2023-12-10T22:04:51.842119Z",
     "shell.execute_reply.started": "2023-12-10T22:04:51.076749Z"
    },
    "tags": []
   },
   "outputs": [
    {
     "data": {
      "application/vnd.jupyter.widget-view+json": {
       "model_id": "2ee1a913690a4bf6a9ba5e79851d2ab5",
       "version_major": 2,
       "version_minor": 0
      },
      "text/plain": [
       "VBox()"
      ]
     },
     "metadata": {},
     "output_type": "display_data"
    },
    {
     "data": {
      "application/vnd.jupyter.widget-view+json": {
       "model_id": "",
       "version_major": 2,
       "version_minor": 0
      },
      "text/plain": [
       "FloatProgress(value=0.0, bar_style='info', description='Progress:', layout=Layout(height='25px', width='50%'),…"
      ]
     },
     "metadata": {},
     "output_type": "display_data"
    },
    {
     "name": "stdout",
     "output_type": "stream",
     "text": [
      "+---------+---------+-----------+\n",
      "|   tconst|titleType|      genre|\n",
      "+---------+---------+-----------+\n",
      "|tt0000001|    short|Documentary|\n",
      "|tt0000001|    short|      Short|\n",
      "|tt0000002|    short|  Animation|\n",
      "|tt0000002|    short|      Short|\n",
      "|tt0000003|    short|  Animation|\n",
      "|tt0000003|    short|     Comedy|\n",
      "|tt0000003|    short|    Romance|\n",
      "|tt0000004|    short|  Animation|\n",
      "|tt0000004|    short|      Short|\n",
      "|tt0000005|    short|     Comedy|\n",
      "+---------+---------+-----------+\n",
      "only showing top 10 rows"
     ]
    }
   ],
   "source": [
    "from pyspark.sql.functions import split, col, explode\n",
    "genres1=genres.withColumn('genres',explode(split('genres',\",\")))\n",
    "genres1.withColumnRenamed(\"genres\",\"genre\").select(\"tconst\", \"titleType\", \"genre\").show(10)"
   ]
  },
  {
   "cell_type": "markdown",
   "id": "9a80280d",
   "metadata": {},
   "source": [
    "## Total Unique Genres"
   ]
  },
  {
   "cell_type": "markdown",
   "id": "b0db9e0c",
   "metadata": {},
   "source": [
    "**What is the total number of unique genres available in the movie title type?**"
   ]
  },
  {
   "cell_type": "code",
   "execution_count": 17,
   "id": "9d7e1777-ca2f-4efc-9e13-db3a8022d523",
   "metadata": {
    "execution": {
     "iopub.execute_input": "2023-12-10T22:04:51.843995Z",
     "iopub.status.busy": "2023-12-10T22:04:51.843842Z",
     "iopub.status.idle": "2023-12-10T22:04:59.147913Z",
     "shell.execute_reply": "2023-12-10T22:04:59.147256Z",
     "shell.execute_reply.started": "2023-12-10T22:04:51.843976Z"
    },
    "tags": []
   },
   "outputs": [
    {
     "data": {
      "application/vnd.jupyter.widget-view+json": {
       "model_id": "e5280d29f8d742239bc2f1bd035d3336",
       "version_major": 2,
       "version_minor": 0
      },
      "text/plain": [
       "VBox()"
      ]
     },
     "metadata": {},
     "output_type": "display_data"
    },
    {
     "data": {
      "application/vnd.jupyter.widget-view+json": {
       "model_id": "",
       "version_major": 2,
       "version_minor": 0
      },
      "text/plain": [
       "FloatProgress(value=0.0, bar_style='info', description='Progress:', layout=Layout(height='25px', width='50%'),…"
      ]
     },
     "metadata": {},
     "output_type": "display_data"
    },
    {
     "name": "stdout",
     "output_type": "stream",
     "text": [
      "29"
     ]
    }
   ],
   "source": [
    "from pyspark.sql.functions import split, col, explode\n",
    "genres1=genres.withColumn('genres',explode(split('genres',\",\")))\n",
    "genres1=genres1.filter(col(\"titleType\") == 'movie')\n",
    "genres1.withColumnRenamed(\"genres\",\"genre\").select(\"genre\").distinct().count()"
   ]
  },
  {
   "cell_type": "code",
   "execution_count": null,
   "id": "c6044252",
   "metadata": {
    "tags": []
   },
   "outputs": [],
   "source": []
  },
  {
   "cell_type": "markdown",
   "id": "5819adcc",
   "metadata": {},
   "source": [
    "**What are the unique genres available?**"
   ]
  },
  {
   "cell_type": "code",
   "execution_count": 18,
   "id": "4bbedd39-5ee2-4a7c-8e3f-138eb9a8dd9e",
   "metadata": {
    "execution": {
     "iopub.execute_input": "2023-12-10T22:04:59.149271Z",
     "iopub.status.busy": "2023-12-10T22:04:59.149110Z",
     "iopub.status.idle": "2023-12-10T22:05:16.482885Z",
     "shell.execute_reply": "2023-12-10T22:05:16.482165Z",
     "shell.execute_reply.started": "2023-12-10T22:04:59.149251Z"
    },
    "tags": []
   },
   "outputs": [
    {
     "data": {
      "application/vnd.jupyter.widget-view+json": {
       "model_id": "40f5404b58b446869e5e6cdd60b757ac",
       "version_major": 2,
       "version_minor": 0
      },
      "text/plain": [
       "VBox()"
      ]
     },
     "metadata": {},
     "output_type": "display_data"
    },
    {
     "data": {
      "application/vnd.jupyter.widget-view+json": {
       "model_id": "",
       "version_major": 2,
       "version_minor": 0
      },
      "text/plain": [
       "FloatProgress(value=0.0, bar_style='info', description='Progress:', layout=Layout(height='25px', width='50%'),…"
      ]
     },
     "metadata": {},
     "output_type": "display_data"
    },
    {
     "name": "stdout",
     "output_type": "stream",
     "text": [
      "+-----------+\n",
      "|genre      |\n",
      "+-----------+\n",
      "|Mystery    |\n",
      "|Musical    |\n",
      "|Sport      |\n",
      "|Action     |\n",
      "|Talk-Show  |\n",
      "|Romance    |\n",
      "|Thriller   |\n",
      "|\\N         |\n",
      "|Reality-TV |\n",
      "|Family     |\n",
      "|Fantasy    |\n",
      "|History    |\n",
      "|Animation  |\n",
      "|Film-Noir  |\n",
      "|Short      |\n",
      "|Sci-Fi     |\n",
      "|News       |\n",
      "|Drama      |\n",
      "|Documentary|\n",
      "|Western    |\n",
      "|Comedy     |\n",
      "|Crime      |\n",
      "|War        |\n",
      "|Game-Show  |\n",
      "|Adult      |\n",
      "|Music      |\n",
      "|Biography  |\n",
      "|Adventure  |\n",
      "|Horror     |\n",
      "+-----------+"
     ]
    }
   ],
   "source": [
    "from pyspark.sql.functions import split, explode\n",
    "unique_genres = genres.select(explode(split(\"genres\", \",\")).alias(\"genre\")).distinct()\n",
    "unique_genres.show(unique_genres.count(), truncate=False)"
   ]
  },
  {
   "cell_type": "markdown",
   "id": "4c5f3022",
   "metadata": {},
   "source": [
    "**Oops! Something is off!**"
   ]
  },
  {
   "cell_type": "code",
   "execution_count": 19,
   "id": "252f58cd-5102-4333-8817-db39eb83be2f",
   "metadata": {
    "execution": {
     "iopub.execute_input": "2023-12-10T22:05:16.484396Z",
     "iopub.status.busy": "2023-12-10T22:05:16.484152Z",
     "iopub.status.idle": "2023-12-10T22:05:33.819980Z",
     "shell.execute_reply": "2023-12-10T22:05:33.819204Z",
     "shell.execute_reply.started": "2023-12-10T22:05:16.484363Z"
    },
    "tags": []
   },
   "outputs": [
    {
     "data": {
      "application/vnd.jupyter.widget-view+json": {
       "model_id": "7f9c545cd78d4bbca044539b4e853405",
       "version_major": 2,
       "version_minor": 0
      },
      "text/plain": [
       "VBox()"
      ]
     },
     "metadata": {},
     "output_type": "display_data"
    },
    {
     "data": {
      "application/vnd.jupyter.widget-view+json": {
       "model_id": "",
       "version_major": 2,
       "version_minor": 0
      },
      "text/plain": [
       "FloatProgress(value=0.0, bar_style='info', description='Progress:', layout=Layout(height='25px', width='50%'),…"
      ]
     },
     "metadata": {},
     "output_type": "display_data"
    },
    {
     "name": "stdout",
     "output_type": "stream",
     "text": [
      "+-----------+\n",
      "|genre      |\n",
      "+-----------+\n",
      "|Mystery    |\n",
      "|Musical    |\n",
      "|Sport      |\n",
      "|Action     |\n",
      "|Talk-Show  |\n",
      "|Romance    |\n",
      "|Thriller   |\n",
      "|Reality-TV |\n",
      "|Family     |\n",
      "|Fantasy    |\n",
      "|History    |\n",
      "|Animation  |\n",
      "|Film-Noir  |\n",
      "|Short      |\n",
      "|Sci-Fi     |\n",
      "|News       |\n",
      "|Drama      |\n",
      "|Documentary|\n",
      "|Western    |\n",
      "|Comedy     |\n",
      "|Crime      |\n",
      "|War        |\n",
      "|Game-Show  |\n",
      "|Adult      |\n",
      "|Music      |\n",
      "|Biography  |\n",
      "|Adventure  |\n",
      "|Horror     |\n",
      "+-----------+"
     ]
    }
   ],
   "source": [
    "cleaned_genres = unique_genres.filter(col(\"genre\") != \"\\\\N\")\n",
    "cleaned_genres.select(col(\"genre\").alias(\"genre\")).show(truncate=False, n=cleaned_genres.count())"
   ]
  },
  {
   "cell_type": "markdown",
   "id": "b7d29ebd",
   "metadata": {},
   "source": [
    "## Top Genres by Movies\n",
    "\n",
    "Now let's find the highest rated genres in this dataset by rolling up genres."
   ]
  },
  {
   "cell_type": "markdown",
   "id": "de4c28e3",
   "metadata": {},
   "source": [
    "### Average Rating / Genre"
   ]
  },
  {
   "cell_type": "markdown",
   "id": "49f1153c",
   "metadata": {},
   "source": [
    "So now, let's unroll our distinct count a bit and display the per average rating value of per genre.\n",
    "\n",
    "The expected output should be:\n",
    "\n",
    "| genre | averageRating |\n",
    "|-------------|------------|\n",
    "| a     | 8.5         |\n",
    "| b     | 6.3         |\n",
    "| c     | 7.2         |\n",
    "\n",
    "Or something to that effect."
   ]
  },
  {
   "cell_type": "markdown",
   "id": "15423dc6",
   "metadata": {},
   "source": [
    "First, let's join our two dataframes (movie ratings and genres) by tconst"
   ]
  },
  {
   "cell_type": "code",
   "execution_count": 20,
   "id": "71b5d21b",
   "metadata": {
    "execution": {
     "iopub.execute_input": "2023-12-10T22:05:33.821415Z",
     "iopub.status.busy": "2023-12-10T22:05:33.821173Z",
     "iopub.status.idle": "2023-12-10T22:05:43.129114Z",
     "shell.execute_reply": "2023-12-10T22:05:43.128430Z",
     "shell.execute_reply.started": "2023-12-10T22:05:33.821382Z"
    },
    "tags": []
   },
   "outputs": [
    {
     "data": {
      "application/vnd.jupyter.widget-view+json": {
       "model_id": "335de628d92349239e1600e9cd628c7d",
       "version_major": 2,
       "version_minor": 0
      },
      "text/plain": [
       "VBox()"
      ]
     },
     "metadata": {},
     "output_type": "display_data"
    },
    {
     "data": {
      "application/vnd.jupyter.widget-view+json": {
       "model_id": "",
       "version_major": 2,
       "version_minor": 0
      },
      "text/plain": [
       "FloatProgress(value=0.0, bar_style='info', description='Progress:', layout=Layout(height='25px', width='50%'),…"
      ]
     },
     "metadata": {},
     "output_type": "display_data"
    },
    {
     "name": "stdout",
     "output_type": "stream",
     "text": [
      "+---------+-------------+\n",
      "|genre    |averageRating|\n",
      "+---------+-------------+\n",
      "|Drama    |4.2          |\n",
      "|Drama    |4.2          |\n",
      "|Biography|4.1          |\n",
      "|Drama    |4.1          |\n",
      "|History  |4.1          |\n",
      "|Drama    |5.7          |\n",
      "|Drama    |4.6          |\n",
      "|History  |4.6          |\n",
      "|Biography|6.3          |\n",
      "|Drama    |6.3          |\n",
      "+---------+-------------+\n",
      "only showing top 10 rows"
     ]
    }
   ],
   "source": [
    "result_df = (\n",
    "    movie_ratings\n",
    "    .join(genres1, movie_ratings.tconst == genres1.tconst, \"inner\")\n",
    "    .filter((col(\"titleType\") == \"movie\") & (col(\"genres\") != \"\\\\N\"))\n",
    "    .select(col(\"genres\").alias(\"genre\"), col(\"averageRating\"))\n",
    ")\n",
    "result_df.show(10, truncate=False)"
   ]
  },
  {
   "cell_type": "markdown",
   "id": "98094ca8",
   "metadata": {},
   "source": [
    "Now, let's aggregate along the averageRating column to get a resultant dataframe that displays average rating per genre."
   ]
  },
  {
   "cell_type": "code",
   "execution_count": 21,
   "id": "b9b3b607-8908-4fa1-b698-71c7a09416ff",
   "metadata": {
    "execution": {
     "iopub.execute_input": "2023-12-10T22:05:43.130680Z",
     "iopub.status.busy": "2023-12-10T22:05:43.130442Z",
     "iopub.status.idle": "2023-12-10T22:05:54.443645Z",
     "shell.execute_reply": "2023-12-10T22:05:54.442903Z",
     "shell.execute_reply.started": "2023-12-10T22:05:43.130646Z"
    },
    "tags": []
   },
   "outputs": [
    {
     "data": {
      "application/vnd.jupyter.widget-view+json": {
       "model_id": "8fcd1a5bdf4849379914e2140acf75e3",
       "version_major": 2,
       "version_minor": 0
      },
      "text/plain": [
       "VBox()"
      ]
     },
     "metadata": {},
     "output_type": "display_data"
    },
    {
     "data": {
      "application/vnd.jupyter.widget-view+json": {
       "model_id": "",
       "version_major": 2,
       "version_minor": 0
      },
      "text/plain": [
       "FloatProgress(value=0.0, bar_style='info', description='Progress:', layout=Layout(height='25px', width='50%'),…"
      ]
     },
     "metadata": {},
     "output_type": "display_data"
    },
    {
     "name": "stdout",
     "output_type": "stream",
     "text": [
      "+-----------+------------------+\n",
      "|genre      |avg_rating        |\n",
      "+-----------+------------------+\n",
      "|Short      |7.260000000000001 |\n",
      "|Documentary|7.245469798657718 |\n",
      "|News       |7.2009160305343505|\n",
      "|Biography  |6.983637640449436 |\n",
      "|Game-Show  |6.975             |\n",
      "|History    |6.822718115605145 |\n",
      "|Music      |6.752020202020201 |\n",
      "|Film-Noir  |6.636246786632392 |\n",
      "|Sport      |6.600145190562615 |\n",
      "|War        |6.483807030665668 |\n",
      "|Reality-TV |6.379310344827586 |\n",
      "|Animation  |6.326203750633554 |\n",
      "|Drama      |6.2880802103879025|\n",
      "|Family     |6.250560452715202 |\n",
      "|Musical    |6.2032460545193695|\n",
      "|Romance    |6.1257141803973605|\n",
      "|Crime      |6.026013332684543 |\n",
      "|Western    |5.948970989337962 |\n",
      "|Comedy     |5.94136310800413  |\n",
      "|Mystery    |5.9404375359815775|\n",
      "+-----------+------------------+\n",
      "only showing top 20 rows"
     ]
    }
   ],
   "source": [
    "from pyspark.sql.functions import avg, col\n",
    "\n",
    "agg_result = (\n",
    "    result_df\n",
    "    .groupBy(\"genre\")\n",
    "    .agg(avg(\"averageRating\").alias(\"avg_rating\"))\n",
    ")\n",
    "agg_result = agg_result.orderBy(col(\"avg_rating\").desc())\n",
    "agg_result.show(20, truncate=False)\n"
   ]
  },
  {
   "cell_type": "markdown",
   "id": "b1fd4e61",
   "metadata": {},
   "source": [
    "### Horizontal Bar Chart of Top Genres\n",
    "\n",
    "With this data available, let us now build a barchart of all genres \n",
    "\n",
    "**HINT**: don't forget about the matplotlib magic!\n",
    "\n",
    "```\n",
    "%matplot plt\n",
    "```"
   ]
  },
  {
   "cell_type": "code",
   "execution_count": 22,
   "id": "ab81880f-f3bc-4b02-a670-47e3e4c487f6",
   "metadata": {
    "execution": {
     "iopub.execute_input": "2023-12-10T22:05:54.444900Z",
     "iopub.status.busy": "2023-12-10T22:05:54.444705Z",
     "iopub.status.idle": "2023-12-10T22:06:03.773569Z",
     "shell.execute_reply": "2023-12-10T22:06:03.772907Z",
     "shell.execute_reply.started": "2023-12-10T22:05:54.444876Z"
    },
    "tags": []
   },
   "outputs": [
    {
     "data": {
      "application/vnd.jupyter.widget-view+json": {
       "model_id": "c7d65f8b89e84c589d6c8f394cab3579",
       "version_major": 2,
       "version_minor": 0
      },
      "text/plain": [
       "VBox()"
      ]
     },
     "metadata": {},
     "output_type": "display_data"
    },
    {
     "data": {
      "application/vnd.jupyter.widget-view+json": {
       "model_id": "",
       "version_major": 2,
       "version_minor": 0
      },
      "text/plain": [
       "FloatProgress(value=0.0, bar_style='info', description='Progress:', layout=Layout(height='25px', width='50%'),…"
      ]
     },
     "metadata": {},
     "output_type": "display_data"
    },
    {
     "name": "stdout",
     "output_type": "stream",
     "text": [
      "+-----------+------------------+\n",
      "|genre      |avg_rating        |\n",
      "+-----------+------------------+\n",
      "|Short      |7.260000000000001 |\n",
      "|Documentary|7.245469798657718 |\n",
      "|News       |7.2009160305343505|\n",
      "|Biography  |6.983637640449436 |\n",
      "|Game-Show  |6.975             |\n",
      "|History    |6.822718115605145 |\n",
      "|Music      |6.752020202020201 |\n",
      "|Film-Noir  |6.636246786632392 |\n",
      "|Sport      |6.600145190562615 |\n",
      "|War        |6.483807030665668 |\n",
      "|Reality-TV |6.379310344827586 |\n",
      "|Animation  |6.326203750633554 |\n",
      "|Drama      |6.2880802103879025|\n",
      "|Family     |6.250560452715202 |\n",
      "|Musical    |6.2032460545193695|\n",
      "|Romance    |6.1257141803973605|\n",
      "|Crime      |6.026013332684543 |\n",
      "|Western    |5.948970989337962 |\n",
      "|Comedy     |5.94136310800413  |\n",
      "|Mystery    |5.9404375359815775|\n",
      "+-----------+------------------+\n",
      "only showing top 20 rows"
     ]
    }
   ],
   "source": [
    "from pyspark.sql.functions import avg, col\n",
    "\n",
    "agg_result = (\n",
    "    result_df\n",
    "    .groupBy(\"genre\")\n",
    "    .agg(avg(\"averageRating\").alias(\"avg_rating\"))\n",
    ")\n",
    "agg_result = agg_result.orderBy(col(\"avg_rating\").desc())\n",
    "agg_result.show(20, truncate=False)"
   ]
  },
  {
   "cell_type": "code",
   "execution_count": 23,
   "id": "e3d0be0d-2ee1-44a6-bbdd-6f92d44491e5",
   "metadata": {
    "execution": {
     "iopub.execute_input": "2023-12-10T22:06:03.775279Z",
     "iopub.status.busy": "2023-12-10T22:06:03.774882Z",
     "iopub.status.idle": "2023-12-10T22:06:15.144409Z",
     "shell.execute_reply": "2023-12-10T22:06:15.143279Z",
     "shell.execute_reply.started": "2023-12-10T22:06:03.775242Z"
    },
    "tags": []
   },
   "outputs": [
    {
     "data": {
      "application/vnd.jupyter.widget-view+json": {
       "model_id": "aa01fe80798a41a3adad626d24e8ef58",
       "version_major": 2,
       "version_minor": 0
      },
      "text/plain": [
       "VBox()"
      ]
     },
     "metadata": {},
     "output_type": "display_data"
    },
    {
     "data": {
      "application/vnd.jupyter.widget-view+json": {
       "model_id": "",
       "version_major": 2,
       "version_minor": 0
      },
      "text/plain": [
       "FloatProgress(value=0.0, bar_style='info', description='Progress:', layout=Layout(height='25px', width='50%'),…"
      ]
     },
     "metadata": {},
     "output_type": "display_data"
    },
    {
     "data": {
      "image/png": "[encoded data removed]",
      "text/plain": [
       "<IPython.core.display.Image object>"
      ]
     },
     "metadata": {},
     "output_type": "display_data"
    }
   ],
   "source": [
    "import matplotlib.pyplot as plt\n",
    "import pandas as pd\n",
    "\n",
    "pd_agg_result = agg_result.toPandas()\n",
    "\n",
    "plt.figure(figsize=(14, 8))\n",
    "bars = plt.barh(pd_agg_result['genre'], pd_agg_result['avg_rating'], color='#7B68EE', height=0.5)\n",
    "plt.xlabel('Average Rating')\n",
    "plt.ylabel('Genre')\n",
    "plt.title('Top Genres in the movie category')\n",
    "plt.gca().invert_yaxis() \n",
    "\n",
    "plt.xticks([5.0 + i * 0.5 for i in range(int((max(pd_agg_result['avg_rating']) - 5.0) / 0.5) + 1)])\n",
    "\n",
    "plt.xlim(5.0, 7.5)\n",
    "\n",
    "legend_labels = ['Avg_Rating']\n",
    "plt.legend(bars, legend_labels, loc='lower right')\n",
    "\n",
    "plt.show()\n",
    "%matplot plt\n"
   ]
  },
  {
   "cell_type": "code",
   "execution_count": null,
   "id": "b7143a70-077d-40f1-b9c4-c664557dd04f",
   "metadata": {},
   "outputs": [],
   "source": []
  },
  {
   "cell_type": "markdown",
   "id": "3671c612",
   "metadata": {},
   "source": [
    "## PART 3 - Analyzing Job Categories"
   ]
  },
  {
   "cell_type": "markdown",
   "id": "2912a0ba",
   "metadata": {},
   "source": [
    "## Total Unique Job Categories"
   ]
  },
  {
   "cell_type": "markdown",
   "id": "099531c0",
   "metadata": {},
   "source": [
    "**What is the total number of unique job categories?**"
   ]
  },
  {
   "cell_type": "code",
   "execution_count": 24,
   "id": "bf5ea336",
   "metadata": {
    "execution": {
     "iopub.execute_input": "2023-12-10T22:06:15.145952Z",
     "iopub.status.busy": "2023-12-10T22:06:15.145639Z",
     "iopub.status.idle": "2023-12-10T22:06:15.917852Z",
     "shell.execute_reply": "2023-12-10T22:06:15.917124Z",
     "shell.execute_reply.started": "2023-12-10T22:06:15.145884Z"
    },
    "tags": []
   },
   "outputs": [
    {
     "data": {
      "application/vnd.jupyter.widget-view+json": {
       "model_id": "a4c22f90b3644f0ea78250720602839d",
       "version_major": 2,
       "version_minor": 0
      },
      "text/plain": [
       "VBox()"
      ]
     },
     "metadata": {},
     "output_type": "display_data"
    },
    {
     "data": {
      "application/vnd.jupyter.widget-view+json": {
       "model_id": "",
       "version_major": 2,
       "version_minor": 0
      },
      "text/plain": [
       "FloatProgress(value=0.0, bar_style='info', description='Progress:', layout=Layout(height='25px', width='50%'),…"
      ]
     },
     "metadata": {},
     "output_type": "display_data"
    },
    {
     "name": "stdout",
     "output_type": "stream",
     "text": [
      "+---------+---------------+\n",
      "|   tconst|       category|\n",
      "+---------+---------------+\n",
      "|tt0000001|           self|\n",
      "|tt0000001|       director|\n",
      "|tt0000001|cinematographer|\n",
      "|tt0000002|       director|\n",
      "|tt0000002|       composer|\n",
      "+---------+---------------+\n",
      "only showing top 5 rows"
     ]
    }
   ],
   "source": [
    "movie_actors.select(\"tconst\", \"category\").show(5)"
   ]
  },
  {
   "cell_type": "code",
   "execution_count": 25,
   "id": "44203333",
   "metadata": {
    "execution": {
     "iopub.execute_input": "2023-12-10T22:06:15.922292Z",
     "iopub.status.busy": "2023-12-10T22:06:15.922052Z",
     "iopub.status.idle": "2023-12-10T22:06:47.317586Z",
     "shell.execute_reply": "2023-12-10T22:06:47.316824Z",
     "shell.execute_reply.started": "2023-12-10T22:06:15.922260Z"
    },
    "tags": []
   },
   "outputs": [
    {
     "data": {
      "application/vnd.jupyter.widget-view+json": {
       "model_id": "20a5d9d4f17448a0843c427d8f9075f9",
       "version_major": 2,
       "version_minor": 0
      },
      "text/plain": [
       "VBox()"
      ]
     },
     "metadata": {},
     "output_type": "display_data"
    },
    {
     "data": {
      "application/vnd.jupyter.widget-view+json": {
       "model_id": "",
       "version_major": 2,
       "version_minor": 0
      },
      "text/plain": [
       "FloatProgress(value=0.0, bar_style='info', description='Progress:', layout=Layout(height='25px', width='50%'),…"
      ]
     },
     "metadata": {},
     "output_type": "display_data"
    },
    {
     "name": "stdout",
     "output_type": "stream",
     "text": [
      "12"
     ]
    }
   ],
   "source": [
    "movie_actors1=movie_actors.withColumn('category',explode(split('category',\",\")))\n",
    "movie_actors1.select(\"category\").distinct().count()"
   ]
  },
  {
   "cell_type": "markdown",
   "id": "c3b2f7b4",
   "metadata": {},
   "source": [
    "**What are the unique job categories available?**"
   ]
  },
  {
   "cell_type": "code",
   "execution_count": 26,
   "id": "e03438b0",
   "metadata": {
    "execution": {
     "iopub.execute_input": "2023-12-10T22:06:47.319389Z",
     "iopub.status.busy": "2023-12-10T22:06:47.319149Z",
     "iopub.status.idle": "2023-12-10T22:07:18.707526Z",
     "shell.execute_reply": "2023-12-10T22:07:18.706747Z",
     "shell.execute_reply.started": "2023-12-10T22:06:47.319356Z"
    },
    "tags": []
   },
   "outputs": [
    {
     "data": {
      "application/vnd.jupyter.widget-view+json": {
       "model_id": "2a33d610e0554260926383b4031a83c9",
       "version_major": 2,
       "version_minor": 0
      },
      "text/plain": [
       "VBox()"
      ]
     },
     "metadata": {},
     "output_type": "display_data"
    },
    {
     "data": {
      "application/vnd.jupyter.widget-view+json": {
       "model_id": "",
       "version_major": 2,
       "version_minor": 0
      },
      "text/plain": [
       "FloatProgress(value=0.0, bar_style='info', description='Progress:', layout=Layout(height='25px', width='50%'),…"
      ]
     },
     "metadata": {},
     "output_type": "display_data"
    },
    {
     "name": "stdout",
     "output_type": "stream",
     "text": [
      "+-------------------+\n",
      "|category           |\n",
      "+-------------------+\n",
      "|actress            |\n",
      "|producer           |\n",
      "|production_designer|\n",
      "|writer             |\n",
      "|actor              |\n",
      "|cinematographer    |\n",
      "|archive_sound      |\n",
      "|archive_footage    |\n",
      "|self               |\n",
      "|editor             |\n",
      "|composer           |\n",
      "|director           |\n",
      "+-------------------+"
     ]
    }
   ],
   "source": [
    "unique_categories = movie_actors1.select(\"category\").distinct()\n",
    "unique_categories.show(truncate=False)\n"
   ]
  },
  {
   "cell_type": "markdown",
   "id": "47312540",
   "metadata": {},
   "source": [
    "## Top Job Categories"
   ]
  },
  {
   "cell_type": "markdown",
   "id": "61df21f0",
   "metadata": {},
   "source": [
    "Now let's find the top job categories in this dataset by rolling up categories."
   ]
  },
  {
   "cell_type": "markdown",
   "id": "2d56869a",
   "metadata": {},
   "source": [
    "### Counts of Titles / Job Category"
   ]
  },
  {
   "cell_type": "markdown",
   "id": "ae87af2f",
   "metadata": {},
   "source": [
    "The expected output should be:\n",
    "\n",
    "| category | count |\n",
    "|-------------|------------|\n",
    "| a     | 15         |\n",
    "| b     | 2          |\n",
    "| c     | 45          |\n",
    "\n",
    "Or something to that effect."
   ]
  },
  {
   "cell_type": "code",
   "execution_count": 27,
   "id": "f3d65964",
   "metadata": {
    "execution": {
     "iopub.execute_input": "2023-12-10T22:07:18.708712Z",
     "iopub.status.busy": "2023-12-10T22:07:18.708548Z",
     "iopub.status.idle": "2023-12-10T22:07:50.118776Z",
     "shell.execute_reply": "2023-12-10T22:07:50.118000Z",
     "shell.execute_reply.started": "2023-12-10T22:07:18.708692Z"
    },
    "tags": []
   },
   "outputs": [
    {
     "data": {
      "application/vnd.jupyter.widget-view+json": {
       "model_id": "cdb116b81fe9441d99025491c418e954",
       "version_major": 2,
       "version_minor": 0
      },
      "text/plain": [
       "VBox()"
      ]
     },
     "metadata": {},
     "output_type": "display_data"
    },
    {
     "data": {
      "application/vnd.jupyter.widget-view+json": {
       "model_id": "",
       "version_major": 2,
       "version_minor": 0
      },
      "text/plain": [
       "FloatProgress(value=0.0, bar_style='info', description='Progress:', layout=Layout(height='25px', width='50%'),…"
      ]
     },
     "metadata": {},
     "output_type": "display_data"
    },
    {
     "name": "stdout",
     "output_type": "stream",
     "text": [
      "+-------------------+-------+\n",
      "|           category|  count|\n",
      "+-------------------+-------+\n",
      "|            actress|6325097|\n",
      "|           producer|2197866|\n",
      "|production_designer| 285924|\n",
      "|             writer|4811596|\n",
      "|              actor|8493701|\n",
      "|    cinematographer|1300404|\n",
      "|      archive_sound|   2143|\n",
      "|    archive_footage| 209035|\n",
      "|               self|6153089|\n",
      "|             editor|1197669|\n",
      "|           composer|1313187|\n",
      "|           director|4179106|\n",
      "+-------------------+-------+"
     ]
    }
   ],
   "source": [
    "from pyspark.sql.functions import count\n",
    "\n",
    "job_category_counts = movie_actors1.groupBy(\"category\").agg(count(\"*\").alias(\"count\"))\n",
    "job_category_counts.show()"
   ]
  },
  {
   "cell_type": "markdown",
   "id": "f8671889",
   "metadata": {},
   "source": [
    "### Bar Chart of Top Job Categories\n",
    "\n",
    "With this data available, let us now build a barchart of the top 5 categories. \n",
    "\n",
    "**HINT**: don't forget about the matplotlib magic!\n",
    "\n",
    "```\n",
    "%matplot plt\n",
    "```"
   ]
  },
  {
   "cell_type": "code",
   "execution_count": 28,
   "id": "3c73edf1",
   "metadata": {
    "execution": {
     "iopub.execute_input": "2023-12-10T22:07:50.120013Z",
     "iopub.status.busy": "2023-12-10T22:07:50.119813Z",
     "iopub.status.idle": "2023-12-10T22:08:19.479449Z",
     "shell.execute_reply": "2023-12-10T22:08:19.478808Z",
     "shell.execute_reply.started": "2023-12-10T22:07:50.119989Z"
    },
    "tags": []
   },
   "outputs": [
    {
     "data": {
      "application/vnd.jupyter.widget-view+json": {
       "model_id": "81312c91606f4c5ababd128cd094d669",
       "version_major": 2,
       "version_minor": 0
      },
      "text/plain": [
       "VBox()"
      ]
     },
     "metadata": {},
     "output_type": "display_data"
    },
    {
     "data": {
      "application/vnd.jupyter.widget-view+json": {
       "model_id": "",
       "version_major": 2,
       "version_minor": 0
      },
      "text/plain": [
       "FloatProgress(value=0.0, bar_style='info', description='Progress:', layout=Layout(height='25px', width='50%'),…"
      ]
     },
     "metadata": {},
     "output_type": "display_data"
    },
    {
     "name": "stdout",
     "output_type": "stream",
     "text": [
      "+-------------------+-------+\n",
      "|           category|  count|\n",
      "+-------------------+-------+\n",
      "|              actor|8493701|\n",
      "|            actress|6325097|\n",
      "|               self|6153089|\n",
      "|             writer|4811596|\n",
      "|           director|4179106|\n",
      "|           producer|2197866|\n",
      "|           composer|1313187|\n",
      "|    cinematographer|1300404|\n",
      "|             editor|1197669|\n",
      "|production_designer| 285924|\n",
      "|    archive_footage| 209035|\n",
      "|      archive_sound|   2143|\n",
      "+-------------------+-------+"
     ]
    }
   ],
   "source": [
    "from pyspark.sql.functions import count, desc\n",
    "\n",
    "job_category_counts = (\n",
    "    movie_actors1\n",
    "    .groupBy(\"category\")\n",
    "    .agg(count(\"*\").alias(\"count\"))\n",
    "    .orderBy(desc(\"count\"))\n",
    ")\n",
    "\n",
    "job_category_counts.show()"
   ]
  },
  {
   "cell_type": "code",
   "execution_count": 29,
   "id": "eb4608e8-96d1-45d2-9d30-f53b5cd12688",
   "metadata": {
    "execution": {
     "iopub.execute_input": "2023-12-10T22:08:19.480604Z",
     "iopub.status.busy": "2023-12-10T22:08:19.480425Z",
     "iopub.status.idle": "2023-12-10T22:08:48.849202Z",
     "shell.execute_reply": "2023-12-10T22:08:48.848541Z",
     "shell.execute_reply.started": "2023-12-10T22:08:19.480582Z"
    },
    "tags": []
   },
   "outputs": [
    {
     "data": {
      "application/vnd.jupyter.widget-view+json": {
       "model_id": "afe68251f4c748e68be8bc9627b5e77a",
       "version_major": 2,
       "version_minor": 0
      },
      "text/plain": [
       "VBox()"
      ]
     },
     "metadata": {},
     "output_type": "display_data"
    },
    {
     "data": {
      "application/vnd.jupyter.widget-view+json": {
       "model_id": "",
       "version_major": 2,
       "version_minor": 0
      },
      "text/plain": [
       "FloatProgress(value=0.0, bar_style='info', description='Progress:', layout=Layout(height='25px', width='50%'),…"
      ]
     },
     "metadata": {},
     "output_type": "display_data"
    },
    {
     "data": {
      "image/png": "[encoded data removed]",
      "text/plain": [
       "<IPython.core.display.Image object>"
      ]
     },
     "metadata": {},
     "output_type": "display_data"
    }
   ],
   "source": [
    "import matplotlib.pyplot as plt\n",
    "import pandas as pd\n",
    "\n",
    "pd_job_category_counts = job_category_counts.limit(5).toPandas()\n",
    "plt.figure(figsize=(10, 6))\n",
    "bars = plt.bar(pd_job_category_counts['category'], pd_job_category_counts['count'], color='#FFD700', width=0.5)\n",
    "plt.xlabel('Job Category')\n",
    "plt.ylabel('Count')\n",
    "plt.title('Top 5 Job Categories')\n",
    "plt.ylim(3, max(pd_job_category_counts['count']) + 1)\n",
    "plt.legend([bars[0]], ['Count'], loc='upper right')\n",
    "\n",
    "plt.show()\n",
    "%matplot plt\n"
   ]
  },
  {
   "cell_type": "markdown",
   "id": "a4436c54",
   "metadata": {},
   "source": [
    "# PART 4 - Answer to the following questions:"
   ]
  },
  {
   "cell_type": "markdown",
   "id": "4c531a7b-8289-4784-825b-fabad415090b",
   "metadata": {},
   "source": [
    "You will need to join tables to answer the following questions.\n",
    "Your code should meet all the requirements given in the question."
   ]
  },
  {
   "cell_type": "markdown",
   "id": "17273925",
   "metadata": {},
   "source": [
    "## 1) What are the movies in which both Johnny Depp and Helena Bonham Carter have acted together?"
   ]
  },
  {
   "cell_type": "code",
   "execution_count": 31,
   "id": "dfced2cd",
   "metadata": {
    "execution": {
     "iopub.execute_input": "2023-12-10T22:09:46.540361Z",
     "iopub.status.busy": "2023-12-10T22:09:46.540116Z",
     "iopub.status.idle": "2023-12-10T22:10:37.963545Z",
     "shell.execute_reply": "2023-12-10T22:10:37.962880Z",
     "shell.execute_reply.started": "2023-12-10T22:09:46.540327Z"
    },
    "tags": []
   },
   "outputs": [
    {
     "data": {
      "application/vnd.jupyter.widget-view+json": {
       "model_id": "7d6860747c1649ab8d77fa76bd965d36",
       "version_major": 2,
       "version_minor": 0
      },
      "text/plain": [
       "VBox()"
      ]
     },
     "metadata": {},
     "output_type": "display_data"
    },
    {
     "data": {
      "application/vnd.jupyter.widget-view+json": {
       "model_id": "",
       "version_major": 2,
       "version_minor": 0
      },
      "text/plain": [
       "FloatProgress(value=0.0, bar_style='info', description='Progress:', layout=Layout(height='25px', width='50%'),…"
      ]
     },
     "metadata": {},
     "output_type": "display_data"
    },
    {
     "name": "stdout",
     "output_type": "stream",
     "text": [
      "+----------------------------------------------+\n",
      "|primaryTitle                                  |\n",
      "+----------------------------------------------+\n",
      "|Dark Shadows                                  |\n",
      "|Sweeney Todd: The Demon Barber of Fleet Street|\n",
      "|Corpse Bride                                  |\n",
      "|Charlie and the Chocolate Factory             |\n",
      "|Alice in Wonderland                           |\n",
      "|Alice Through the Looking Glass               |\n",
      "+----------------------------------------------+"
     ]
    }
   ],
   "source": [
    "from pyspark.sql.functions import count\n",
    "\n",
    "joined_data = actors.join(movie_actors, on=\"nconst\", how=\"inner\").join(genres, on=\"tconst\", how=\"inner\")\n",
    "filtered_data = joined_data.filter((col(\"primaryName\") == \"Johnny Depp\") | (col(\"primaryName\") == \"Helena Bonham Carter\"))\n",
    "filtered_movies = filtered_data.filter((col(\"primaryTitle\") != '\\\\N') & (col(\"titleType\") == \"movie\"))\n",
    "grouped_data = filtered_movies.groupBy(\"primaryTitle\").agg(count(\"primaryTitle\").alias(\"Count\"))\n",
    "result = grouped_data.filter(col(\"Count\") > 1).select(\"primaryTitle\")\n",
    "\n",
    "result.show(truncate=False)"
   ]
  },
  {
   "cell_type": "markdown",
   "id": "a43ca52f",
   "metadata": {},
   "source": [
    "## 2) What are the movies in which Brad Pitt has acted since 2010?"
   ]
  },
  {
   "cell_type": "code",
   "execution_count": 32,
   "id": "380d9cbf",
   "metadata": {
    "execution": {
     "iopub.execute_input": "2023-12-10T22:11:20.409748Z",
     "iopub.status.busy": "2023-12-10T22:11:20.409354Z",
     "iopub.status.idle": "2023-12-10T22:12:09.854918Z",
     "shell.execute_reply": "2023-12-10T22:12:09.853984Z",
     "shell.execute_reply.started": "2023-12-10T22:11:20.409703Z"
    },
    "tags": []
   },
   "outputs": [
    {
     "data": {
      "application/vnd.jupyter.widget-view+json": {
       "model_id": "49c67f6a3ce74db4aa72d2d68d25a4bf",
       "version_major": 2,
       "version_minor": 0
      },
      "text/plain": [
       "VBox()"
      ]
     },
     "metadata": {},
     "output_type": "display_data"
    },
    {
     "data": {
      "application/vnd.jupyter.widget-view+json": {
       "model_id": "",
       "version_major": 2,
       "version_minor": 0
      },
      "text/plain": [
       "FloatProgress(value=0.0, bar_style='info', description='Progress:', layout=Layout(height='25px', width='50%'),…"
      ]
     },
     "metadata": {},
     "output_type": "display_data"
    },
    {
     "name": "stdout",
     "output_type": "stream",
     "text": [
      "+---------------------------------+---------+\n",
      "|primaryTitle                     |startYear|\n",
      "+---------------------------------+---------+\n",
      "|Babylon                          |2021     |\n",
      "|Irresistible                     |2020     |\n",
      "|Kajillionaire                    |2020     |\n",
      "|The King                         |2019     |\n",
      "|Ad Astra                         |2019     |\n",
      "|Once Upon a Time ... in Hollywood|2019     |\n",
      "|Vice                             |2018     |\n",
      "|War Machine                      |2017     |\n",
      "|Voyage of Time: Life's Journey   |2016     |\n",
      "|Allied                           |2016     |\n",
      "|By the Sea                       |2015     |\n",
      "|The Big Short                    |2015     |\n",
      "|Hitting the Apex                 |2015     |\n",
      "|Fury                             |2014     |\n",
      "|World War Z                      |2013     |\n",
      "|Kick-Ass 2                       |2013     |\n",
      "|12 Years a Slave                 |2013     |\n",
      "|Killing Them Softly              |2012     |\n",
      "|The Tree of Life                 |2011     |\n",
      "|Moneyball                        |2011     |\n",
      "+---------------------------------+---------+\n",
      "only showing top 20 rows"
     ]
    }
   ],
   "source": [
    "nll = '\\\\N'\n",
    "\n",
    "brad_movies = (\n",
    "    actors\n",
    "    .join(movie_actors, on=\"nconst\", how=\"inner\")\n",
    "    .join(genres, on=\"tconst\", how=\"inner\")\n",
    ")\n",
    "\n",
    "brad_movies = brad_movies.filter(\n",
    "    (col(\"primaryName\") == \"Brad Pitt\") &\n",
    "    (col(\"primaryTitle\") != nll) &\n",
    "    (col(\"titleType\") == \"movie\") &\n",
    "    (col(\"startYear\") != nll) &\n",
    "    (col(\"startYear\") >= \"2010\")\n",
    ")\n",
    "\n",
    "brad_movies = brad_movies.sort(col(\"startYear\").desc())\n",
    "\n",
    "brad_movies.select(\"primaryTitle\", \"startYear\").show(truncate=False)\n"
   ]
  },
  {
   "cell_type": "markdown",
   "id": "084db6f3",
   "metadata": {},
   "source": [
    "## 3) How many movies has Zendaya acted in each year?"
   ]
  },
  {
   "cell_type": "code",
   "execution_count": 48,
   "id": "ec7799b3-bdd8-4762-83e1-a92f294528f9",
   "metadata": {
    "execution": {
     "iopub.execute_input": "2023-12-10T23:06:10.747237Z",
     "iopub.status.busy": "2023-12-10T23:06:10.747062Z",
     "iopub.status.idle": "2023-12-10T23:07:00.168707Z",
     "shell.execute_reply": "2023-12-10T23:07:00.168060Z",
     "shell.execute_reply.started": "2023-12-10T23:06:10.747215Z"
    }
   },
   "outputs": [
    {
     "data": {
      "application/vnd.jupyter.widget-view+json": {
       "model_id": "722c176b433b497c9ae0646187906f11",
       "version_major": 2,
       "version_minor": 0
      },
      "text/plain": [
       "VBox()"
      ]
     },
     "metadata": {},
     "output_type": "display_data"
    },
    {
     "data": {
      "application/vnd.jupyter.widget-view+json": {
       "model_id": "",
       "version_major": 2,
       "version_minor": 0
      },
      "text/plain": [
       "FloatProgress(value=0.0, bar_style='info', description='Progress:', layout=Layout(height='25px', width='50%'),…"
      ]
     },
     "metadata": {},
     "output_type": "display_data"
    },
    {
     "name": "stdout",
     "output_type": "stream",
     "text": [
      "+---------+----------+\n",
      "|startYear|movieCount|\n",
      "+---------+----------+\n",
      "|2020     |1         |\n",
      "|2018     |2         |\n",
      "|2017     |1         |\n",
      "+---------+----------+"
     ]
    }
   ],
   "source": [
    "from pyspark.sql.functions import col, count\n",
    "\n",
    "nll = '\\\\N'\n",
    "\n",
    "zendaya_movies = (\n",
    "    actors\n",
    "    .join(movie_actors, on=\"nconst\", how=\"inner\")\n",
    "    .join(genres, on=\"tconst\", how=\"inner\")\n",
    ")\n",
    "\n",
    "zendaya_movies = zendaya_movies.filter(\n",
    "    (col(\"primaryName\") == \"Zendaya\") &\n",
    "    (col(\"primaryTitle\") != nll) &\n",
    "    (col(\"titleType\") == \"movie\") &\n",
    "    (col(\"startYear\") != nll)\n",
    ")\n",
    "\n",
    "movies_per_year = zendaya_movies.groupBy(\"startYear\").agg(count(\"*\").alias(\"movieCount\"))\n",
    "movies_per_year = movies_per_year.orderBy(\"startYear\", ascending=False)\n",
    "movies_per_year.show(truncate=False)\n"
   ]
  },
  {
   "cell_type": "markdown",
   "id": "c7ba3bde",
   "metadata": {},
   "source": [
    "## 4) Which movies, released in 2019, have an average rating exceeding 9.7?"
   ]
  },
  {
   "cell_type": "code",
   "execution_count": 34,
   "id": "294883c2",
   "metadata": {
    "execution": {
     "iopub.execute_input": "2023-12-10T22:12:59.284405Z",
     "iopub.status.busy": "2023-12-10T22:12:59.284046Z",
     "iopub.status.idle": "2023-12-10T22:13:08.580911Z",
     "shell.execute_reply": "2023-12-10T22:13:08.580194Z",
     "shell.execute_reply.started": "2023-12-10T22:12:59.284378Z"
    },
    "tags": []
   },
   "outputs": [
    {
     "data": {
      "application/vnd.jupyter.widget-view+json": {
       "model_id": "2b2e4829e9a64a8bbc86921488ff8bcf",
       "version_major": 2,
       "version_minor": 0
      },
      "text/plain": [
       "VBox()"
      ]
     },
     "metadata": {},
     "output_type": "display_data"
    },
    {
     "data": {
      "application/vnd.jupyter.widget-view+json": {
       "model_id": "",
       "version_major": 2,
       "version_minor": 0
      },
      "text/plain": [
       "FloatProgress(value=0.0, bar_style='info', description='Progress:', layout=Layout(height='25px', width='50%'),…"
      ]
     },
     "metadata": {},
     "output_type": "display_data"
    },
    {
     "name": "stdout",
     "output_type": "stream",
     "text": [
      "+-------------------------------------------------+-------------+\n",
      "|primaryTitle                                     |averageRating|\n",
      "+-------------------------------------------------+-------------+\n",
      "|Bu Can Var Oldugu Sürece                         |10.0         |\n",
      "|L'Enfant Terrible                                |10.0         |\n",
      "|A Grunt's Life                                   |10.0         |\n",
      "|Kirket                                           |10.0         |\n",
      "|Our Scripted Life                                |10.0         |\n",
      "|The Twilight Zone: A 60th Anniversary Celebration|10.0         |\n",
      "|The Butcher Baronet                              |10.0         |\n",
      "|A Medicine for the Mind                          |10.0         |\n",
      "|Love in Kilnerry                                 |10.0         |\n",
      "|Superhombre                                      |9.9          |\n",
      "|Puritan: All of Life to The Glory of God         |9.9          |\n",
      "|The Cardinal                                     |9.9          |\n",
      "|Square One                                       |9.8          |\n",
      "|Kamen Rider Zi-O: Over Quartzer                  |9.8          |\n",
      "|Time and motion                                  |9.8          |\n",
      "|We Shall Not Die Now                             |9.8          |\n",
      "|From Shock to Awe                                |9.8          |\n",
      "|Randhawa                                         |9.8          |\n",
      "|Gini Helida Kathe                                |9.8          |\n",
      "+-------------------------------------------------+-------------+"
     ]
    }
   ],
   "source": [
    "from pyspark.sql.functions import col\n",
    "\n",
    "joined_data = genres.join(movie_ratings, on=['tconst'], how='inner')\n",
    "filtered_movies_2019 = joined_data.filter((col('titleType') == 'movie') & (col('primaryTitle') != nll) & (col('startYear') == '2019'))\n",
    "movies_2019_with_rating = filtered_movies_2019.withColumn('averageRating', col('averageRating').cast('float'))\n",
    "high_rated_movies_2019 = movies_2019_with_rating.filter(col('averageRating') > 9.7)\n",
    "result_movies_2019 = high_rated_movies_2019.select('primaryTitle', 'averageRating').sort(col('averageRating').desc())\n",
    "\n",
    "result_movies_2019.show(truncate=False)\n"
   ]
  },
  {
   "cell_type": "markdown",
   "id": "a884583a-e943-48c3-afdc-54ff6f51ff97",
   "metadata": {},
   "source": [
    "## 5) Among the titles in which Clint Eastwood and Harrison Ford have acted, who has the higher average rating?\n",
    "\n",
    "First, calculate the average rating of each actor and then show the actor with higher average rating."
   ]
  },
  {
   "cell_type": "code",
   "execution_count": 47,
   "id": "df2500aa-0304-4170-9ae2-c15d28473c1b",
   "metadata": {
    "execution": {
     "iopub.execute_input": "2023-12-10T23:03:46.806527Z",
     "iopub.status.busy": "2023-12-10T23:03:46.806302Z",
     "iopub.status.idle": "2023-12-10T23:06:10.745901Z",
     "shell.execute_reply": "2023-12-10T23:06:10.745249Z",
     "shell.execute_reply.started": "2023-12-10T23:03:46.806505Z"
    },
    "tags": []
   },
   "outputs": [
    {
     "data": {
      "application/vnd.jupyter.widget-view+json": {
       "model_id": "86099bf5573a499885ba43f18b07c95c",
       "version_major": 2,
       "version_minor": 0
      },
      "text/plain": [
       "VBox()"
      ]
     },
     "metadata": {},
     "output_type": "display_data"
    },
    {
     "data": {
      "application/vnd.jupyter.widget-view+json": {
       "model_id": "",
       "version_major": 2,
       "version_minor": 0
      },
      "text/plain": [
       "FloatProgress(value=0.0, bar_style='info', description='Progress:', layout=Layout(height='25px', width='50%'),…"
      ]
     },
     "metadata": {},
     "output_type": "display_data"
    },
    {
     "name": "stdout",
     "output_type": "stream",
     "text": [
      "+--------------+---------+\n",
      "|primaryName   |avgRating|\n",
      "+--------------+---------+\n",
      "|Clint Eastwood|6.99     |\n",
      "|Harrison Ford |6.69     |\n",
      "+--------------+---------+\n",
      "\n",
      "The average rating of Harrison Ford is 6.69\n",
      "The average rating of Clint Eastwood is 6.99\n",
      "Harrison Ford has a higher average rating"
     ]
    }
   ],
   "source": [
    "from pyspark.sql.functions import col, avg, format_number\n",
    "\n",
    "joined_data = actors.join(movie_actors, on=\"nconst\", how=\"inner\") \\\n",
    "    .join(genres, on=\"tconst\", how=\"inner\") \\\n",
    "    .join(movie_ratings, on=\"tconst\", how=\"inner\")\n",
    "filtered_movies = joined_data.filter((col('titleType') == 'movie') & (col('primaryTitle') != '\\\\N') & (col('averageRating').isNotNull()))\n",
    "selected_actors = filtered_movies.filter((col('primaryName') == 'Clint Eastwood') | (col('primaryName') == 'Harrison Ford'))\n",
    "\n",
    "average_rating_by_actor = (\n",
    "    selected_actors\n",
    "    .groupBy('primaryName')\n",
    "    .agg(format_number(avg('averageRating'), 2).alias('avgRating'))\n",
    ")\n",
    "\n",
    "average_rating_by_actor.show(truncate=False)\n",
    "harrison_ford_rating = average_rating_by_actor.filter(col('primaryName') == 'Harrison Ford').select('avgRating').collect()[0][0]\n",
    "clint_eastwood_rating = average_rating_by_actor.filter(col('primaryName') == 'Clint Eastwood').select('avgRating').collect()[0][0]\n",
    "\n",
    "if harrison_ford_rating > clint_eastwood_rating:\n",
    "    print(\"The average rating of Harrison Ford is {}\".format(harrison_ford_rating))\n",
    "    print(\"The average rating of Clint Eastwood is {}\".format(clint_eastwood_rating))\n",
    "    print(\"Clint Eastwood has a higher average rating\")\n",
    "else:\n",
    "    print(\"The average rating of Harrison Ford is {}\".format(harrison_ford_rating))\n",
    "    print(\"The average rating of Clint Eastwood is {}\".format(clint_eastwood_rating))\n",
    "    print(\"Harrison Ford has a higher average rating\")\n",
    "\n"
   ]
  },
  {
   "cell_type": "markdown",
   "id": "c3fd460a-40ed-459c-b277-26f0e6800bc7",
   "metadata": {},
   "source": [
    "## 6) What is the movie(s) with the highest average rating among those in which Chris Evans has acted?\n",
    "\n",
    "Write your code in a way that it finds and displays all movies with the highest rating, even if there's more than one. "
   ]
  },
  {
   "cell_type": "code",
   "execution_count": 36,
   "id": "5202e408-58aa-45d9-88ac-4cca6d7a9d81",
   "metadata": {
    "execution": {
     "iopub.execute_input": "2023-12-10T22:15:52.676222Z",
     "iopub.status.busy": "2023-12-10T22:15:52.675970Z",
     "iopub.status.idle": "2023-12-10T22:17:44.403766Z",
     "shell.execute_reply": "2023-12-10T22:17:44.403045Z",
     "shell.execute_reply.started": "2023-12-10T22:15:52.676189Z"
    },
    "tags": []
   },
   "outputs": [
    {
     "data": {
      "application/vnd.jupyter.widget-view+json": {
       "model_id": "87caf4d442c24c1281d39b6565f4c744",
       "version_major": 2,
       "version_minor": 0
      },
      "text/plain": [
       "VBox()"
      ]
     },
     "metadata": {},
     "output_type": "display_data"
    },
    {
     "data": {
      "application/vnd.jupyter.widget-view+json": {
       "model_id": "",
       "version_major": 2,
       "version_minor": 0
      },
      "text/plain": [
       "FloatProgress(value=0.0, bar_style='info', description='Progress:', layout=Layout(height='25px', width='50%'),…"
      ]
     },
     "metadata": {},
     "output_type": "display_data"
    },
    {
     "name": "stdout",
     "output_type": "stream",
     "text": [
      "+----------------------+---------+\n",
      "|primaryTitle          |avgRating|\n",
      "+----------------------+---------+\n",
      "|Avengers: Infinity War|8.5      |\n",
      "|Avengers: Endgame     |8.5      |\n",
      "+----------------------+---------+"
     ]
    }
   ],
   "source": [
    "from pyspark.sql.functions import col, avg, desc\n",
    "\n",
    "joined_data = actors.join(movie_actors, on=\"nconst\", how=\"inner\") \\\n",
    "    .join(genres, on=\"tconst\", how=\"inner\") \\\n",
    "    .join(movie_ratings, on=\"tconst\", how=\"inner\")\n",
    "\n",
    "filtered_movies = joined_data.filter((col('titleType') == 'movie') & (col('primaryTitle') != nll) & (col('averageRating').isNotNull()))\n",
    "chris_evans_movies = filtered_movies.filter(col('primaryName') == 'Chris Evans')\n",
    "average_rating_by_movie = (\n",
    "    chris_evans_movies\n",
    "    .groupBy('primaryTitle')\n",
    "    .agg(avg('averageRating').alias('avgRating'))\n",
    ")\n",
    "\n",
    "highest_rating = average_rating_by_movie.agg({\"avgRating\": \"max\"}).collect()[0][0]\n",
    "highest_rated_movies = average_rating_by_movie.filter(col('avgRating') == highest_rating)\n",
    "highest_rated_movies.show(truncate=False)\n",
    "\n"
   ]
  },
  {
   "cell_type": "markdown",
   "id": "c7086f55-9fa0-40ae-8116-e14ea042d402",
   "metadata": {},
   "source": [
    "## 7) What is the percentage of adult titles in which actors and actresses have acted?"
   ]
  },
  {
   "cell_type": "code",
   "execution_count": 44,
   "id": "4a800b9e-ff4f-4c8e-8ca5-0aa9563d31df",
   "metadata": {
    "execution": {
     "iopub.execute_input": "2023-12-10T22:49:16.168410Z",
     "iopub.status.busy": "2023-12-10T22:49:16.168186Z",
     "iopub.status.idle": "2023-12-10T22:52:02.106787Z",
     "shell.execute_reply": "2023-12-10T22:52:02.106058Z",
     "shell.execute_reply.started": "2023-12-10T22:49:16.168386Z"
    },
    "tags": []
   },
   "outputs": [
    {
     "data": {
      "application/vnd.jupyter.widget-view+json": {
       "model_id": "5fae95e8e60f40f59e813a0c67d18ec4",
       "version_major": 2,
       "version_minor": 0
      },
      "text/plain": [
       "VBox()"
      ]
     },
     "metadata": {},
     "output_type": "display_data"
    },
    {
     "data": {
      "application/vnd.jupyter.widget-view+json": {
       "model_id": "",
       "version_major": 2,
       "version_minor": 0
      },
      "text/plain": [
       "FloatProgress(value=0.0, bar_style='info', description='Progress:', layout=Layout(height='25px', width='50%'),…"
      ]
     },
     "metadata": {},
     "output_type": "display_data"
    },
    {
     "name": "stdout",
     "output_type": "stream",
     "text": [
      "The percentage of adult titles that actors have acted in is: 31.94%\n",
      "The percentage of adult titles that actresses have acted in is: 38.82%"
     ]
    }
   ],
   "source": [
    "from pyspark.sql.functions import col\n",
    "joined_data = actors.join(movie_actors, on=\"nconst\", how=\"inner\").join(genres, on=\"tconst\", how=\"inner\")\n",
    "adult_titles = joined_data.filter((col(\"isAdult\") == \"1\") & (col(\"titleType\") == \"movie\"))\n",
    "actors_count = adult_titles.filter(col(\"category\") == \"actor\").count()\n",
    "actresses_count = adult_titles.filter(col(\"category\") == \"actress\").count()\n",
    "total_adult_titles = adult_titles.count()\n",
    "percentage_actors = (actors_count / total_adult_titles) * 100\n",
    "percentage_actresses = (actresses_count / total_adult_titles) * 100\n",
    "print(\"The percentage of adult titles that actors have acted in is: {:.2f}%\".format(percentage_actors))\n",
    "print(\"The percentage of adult titles that actresses have acted in is: {:.2f}%\".format(percentage_actresses))\n",
    "\n"
   ]
  },
  {
   "cell_type": "markdown",
   "id": "08ea8545-0511-472e-b225-c3af64237cd5",
   "metadata": {},
   "source": [
    "## 8) What are the top 10 movie genres with the shortest average runtime?\n",
    "\n",
    "You do not need to join tables in this question."
   ]
  },
  {
   "cell_type": "code",
   "execution_count": 38,
   "id": "067686da-7232-426a-a922-6ca7bca99ab1",
   "metadata": {
    "execution": {
     "iopub.execute_input": "2023-12-10T22:18:57.911626Z",
     "iopub.status.busy": "2023-12-10T22:18:57.911456Z",
     "iopub.status.idle": "2023-12-10T22:19:05.205018Z",
     "shell.execute_reply": "2023-12-10T22:19:05.204252Z",
     "shell.execute_reply.started": "2023-12-10T22:18:57.911605Z"
    },
    "tags": []
   },
   "outputs": [
    {
     "data": {
      "application/vnd.jupyter.widget-view+json": {
       "model_id": "4a18a818c5ba4fbcad8eb632e00af11a",
       "version_major": 2,
       "version_minor": 0
      },
      "text/plain": [
       "VBox()"
      ]
     },
     "metadata": {},
     "output_type": "display_data"
    },
    {
     "data": {
      "application/vnd.jupyter.widget-view+json": {
       "model_id": "",
       "version_major": 2,
       "version_minor": 0
      },
      "text/plain": [
       "FloatProgress(value=0.0, bar_style='info', description='Progress:', layout=Layout(height='25px', width='50%'),…"
      ]
     },
     "metadata": {},
     "output_type": "display_data"
    },
    {
     "name": "stdout",
     "output_type": "stream",
     "text": [
      "+-----------+----------+\n",
      "|genre      |avgRuntime|\n",
      "+-----------+----------+\n",
      "|Short      |18.67     |\n",
      "|News       |66.85     |\n",
      "|Documentary|72.68     |\n",
      "|Reality-TV |76.28     |\n",
      "|Adult      |77.18     |\n",
      "|Western    |79.36     |\n",
      "|Talk-Show  |79.43     |\n",
      "|Animation  |80.75     |\n",
      "|Biography  |81.05     |\n",
      "|Film-Noir  |83.76     |\n",
      "+-----------+----------+"
     ]
    }
   ],
   "source": [
    "from pyspark.sql.functions import col, split, explode, avg, format_number\n",
    "\n",
    "genres_split = genres.filter((col('titleType') == 'movie') & (col('runtimeMinutes') != nll) & (col('genres') != nll)) \\\n",
    "    .withColumn('genre', explode(split(col('genres'), ',')))\n",
    "average_runtime_by_genre = genres_split.groupBy('genre') \\\n",
    "    .agg(avg('runtimeMinutes').alias('avgRuntime'))\n",
    "average_runtime_by_genre = average_runtime_by_genre.withColumn('avgRuntime', format_number('avgRuntime', 2))\n",
    "top_10_shortest_genres = average_runtime_by_genre.orderBy('avgRuntime').limit(10)\n",
    "top_10_shortest_genres.show(truncate=False)\n"
   ]
  },
  {
   "cell_type": "markdown",
   "id": "867fc752-8ad8-41dd-a21d-bbae10f7295b",
   "metadata": {},
   "source": [
    "## 9) What are the most common character names for actors and actresses in Romance movies?"
   ]
  },
  {
   "cell_type": "code",
   "execution_count": 39,
   "id": "c757d669-506b-413e-94e0-ee8908fe4327",
   "metadata": {
    "execution": {
     "iopub.execute_input": "2023-12-10T22:20:11.431662Z",
     "iopub.status.busy": "2023-12-10T22:20:11.431430Z",
     "iopub.status.idle": "2023-12-10T22:20:20.724579Z",
     "shell.execute_reply": "2023-12-10T22:20:20.723912Z",
     "shell.execute_reply.started": "2023-12-10T22:20:11.431637Z"
    },
    "tags": []
   },
   "outputs": [
    {
     "data": {
      "application/vnd.jupyter.widget-view+json": {
       "model_id": "9ceed97eab384f20b3b9d4eae70dc4ac",
       "version_major": 2,
       "version_minor": 0
      },
      "text/plain": [
       "VBox()"
      ]
     },
     "metadata": {},
     "output_type": "display_data"
    },
    {
     "data": {
      "application/vnd.jupyter.widget-view+json": {
       "model_id": "",
       "version_major": 2,
       "version_minor": 0
      },
      "text/plain": [
       "FloatProgress(value=0.0, bar_style='info', description='Progress:', layout=Layout(height='25px', width='50%'),…"
      ]
     },
     "metadata": {},
     "output_type": "display_data"
    }
   ],
   "source": [
    "actors = spark.read.csv('s3://cis9760-lecture9-movieanalysis/name.basics.tsv', sep=r'\\t', header=True)\n",
    "genres = spark.read.csv('s3://cis9760-lecture9-movieanalysis/title.basics.tsv', sep=r'\\t', header=True)\n",
    "movie_actors = spark.read.csv('s3://cis9760-lecture9-movieanalysis/title.principals.tsv', sep=r'\\t', header=True)\n",
    "movie_ratings = spark.read.csv('s3://cis9760-lecture9-movieanalysis/title.ratings.tsv', sep=r'\\t', header=True)"
   ]
  },
  {
   "cell_type": "code",
   "execution_count": 40,
   "id": "88e82a18-a379-48e2-931b-550d86abb6ad",
   "metadata": {
    "execution": {
     "iopub.execute_input": "2023-12-10T22:20:26.466855Z",
     "iopub.status.busy": "2023-12-10T22:20:26.466593Z",
     "iopub.status.idle": "2023-12-10T22:21:11.878141Z",
     "shell.execute_reply": "2023-12-10T22:21:11.877261Z",
     "shell.execute_reply.started": "2023-12-10T22:20:26.466831Z"
    }
   },
   "outputs": [
    {
     "data": {
      "application/vnd.jupyter.widget-view+json": {
       "model_id": "4e39a4c7615545ac948ac61e37b80c13",
       "version_major": 2,
       "version_minor": 0
      },
      "text/plain": [
       "VBox()"
      ]
     },
     "metadata": {},
     "output_type": "display_data"
    },
    {
     "data": {
      "application/vnd.jupyter.widget-view+json": {
       "model_id": "",
       "version_major": 2,
       "version_minor": 0
      },
      "text/plain": [
       "FloatProgress(value=0.0, bar_style='info', description='Progress:', layout=Layout(height='25px', width='50%'),…"
      ]
     },
     "metadata": {},
     "output_type": "display_data"
    },
    {
     "name": "stdout",
     "output_type": "stream",
     "text": [
      "+--------+-----+----------+\n",
      "|category|count|characters|\n",
      "+--------+-----+----------+\n",
      "|actress |228  |[\"Anna\"]  |\n",
      "|actor   |182  |[\"David\"] |\n",
      "+--------+-----+----------+"
     ]
    }
   ],
   "source": [
    "from pyspark.sql import functions as F\n",
    "from pyspark.sql.functions import col, explode, split\n",
    "\n",
    "merged_data = genres.join(movie_actors, on=\"tconst\", how=\"inner\")\n",
    "romance_movies = merged_data.filter(col(\"titleType\") == \"movie\")\n",
    "romance_movies = romance_movies.filter(col(\"characters\") != \"\\\\N\")\n",
    "romance_movies = romance_movies.withColumn(\"genres\", explode(split(col(\"genres\"), ',')))\n",
    "romance_movies = romance_movies.filter(col(\"genres\") == \"Romance\")\n",
    "romance_movies = romance_movies.filter((col(\"category\") == \"actor\") | (col(\"category\") == \"actress\"))\n",
    "\n",
    "result = (\n",
    "    romance_movies\n",
    "    .groupBy('category', 'characters')\n",
    "    .agg(F.count('*').alias('count'))\n",
    "    .orderBy('count', ascending=False)\n",
    "    .limit(2)\n",
    "    .select('category', 'count', 'characters')\n",
    ")\n",
    "\n",
    "result.show(2, truncate=False)\n"
   ]
  },
  {
   "cell_type": "code",
   "execution_count": null,
   "id": "0f21d9d6-4631-41e0-8a9f-3ffaa772e114",
   "metadata": {},
   "outputs": [],
   "source": []
  }
 ],
 "metadata": {
  "kernelspec": {
   "display_name": "PySpark",
   "language": "python",
   "name": "pysparkkernel"
  },
  "language_info": {
   "codemirror_mode": {
    "name": "python",
    "version": 3
   },
   "file_extension": ".py",
   "mimetype": "text/x-python",
   "name": "pyspark",
   "pygments_lexer": "python3"
  }
 },
 "nbformat": 4,
 "nbformat_minor": 5
}
